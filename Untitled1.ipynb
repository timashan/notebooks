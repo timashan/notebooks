{
 "cells": [
  {
   "cell_type": "code",
   "execution_count": 1,
   "id": "17c8f340",
   "metadata": {},
   "outputs": [],
   "source": [
    "import numpy as np\n",
    "import pandas as pd\n",
    "import seaborn as sns"
   ]
  },
  {
   "cell_type": "code",
   "execution_count": 2,
   "id": "64c817f5",
   "metadata": {},
   "outputs": [],
   "source": [
    "P = np.random.normal(size=1000, loc=50)"
   ]
  },
  {
   "cell_type": "code",
   "execution_count": 138,
   "id": "0de95011",
   "metadata": {
    "scrolled": true
   },
   "outputs": [
    {
     "data": {
      "text/html": [
       "<div>\n",
       "<style scoped>\n",
       "    .dataframe tbody tr th:only-of-type {\n",
       "        vertical-align: middle;\n",
       "    }\n",
       "\n",
       "    .dataframe tbody tr th {\n",
       "        vertical-align: top;\n",
       "    }\n",
       "\n",
       "    .dataframe thead th {\n",
       "        text-align: right;\n",
       "    }\n",
       "</style>\n",
       "<table border=\"1\" class=\"dataframe\">\n",
       "  <thead>\n",
       "    <tr style=\"text-align: right;\">\n",
       "      <th></th>\n",
       "      <th>Gender</th>\n",
       "      <th>MaritalStatus</th>\n",
       "      <th>Title</th>\n",
       "    </tr>\n",
       "  </thead>\n",
       "  <tbody>\n",
       "    <tr>\n",
       "      <th>0</th>\n",
       "      <td>M</td>\n",
       "      <td>M</td>\n",
       "      <td>Mr.</td>\n",
       "    </tr>\n",
       "    <tr>\n",
       "      <th>1</th>\n",
       "      <td>F</td>\n",
       "      <td>S</td>\n",
       "      <td>Ms.</td>\n",
       "    </tr>\n",
       "  </tbody>\n",
       "</table>\n",
       "</div>"
      ],
      "text/plain": [
       "  Gender MaritalStatus Title\n",
       "0      M             M   Mr.\n",
       "1      F             S   Ms."
      ]
     },
     "execution_count": 138,
     "metadata": {},
     "output_type": "execute_result"
    }
   ],
   "source": [
    "df = pd.DataFrame({\"Gender\":[\"M\", \"F\"], \"MaritalStatus\":[\"M\", \"S\"], \"Title\":[None,None]})\n",
    "# df = df[df[\"Title\"].isnull()]\n",
    "# df.loc[df[\"Gender\"]==\"M\", \"Title\"] = \"Mr.\"\n",
    "# df.loc[(df[\"Gender\"]==\"F\") & (df[\"MaritalStatus\"]==\"M\"), \"Title\"] = \"Mrs.\"\n",
    "# df.loc[(df[\"Gender\"]==\"F\") & (df[\"MaritalStatus\"]==\"S\"), \"Title\"] = \"Ms.\"\n",
    "# df\n",
    "\n",
    "def filterTitle(r):\n",
    "    gender = r[\"Gender\"] and r[\"Gender\"].upper()\n",
    "    ms = r[\"MaritalStatus\"] and r[\"MaritalStatus\"].upper()\n",
    "    \n",
    "    if r[\"Title\"]!=None:\n",
    "        return r\n",
    "    \n",
    "    if gender==\"M\":\n",
    "        r[\"Title\"]=\"Mr.\"\n",
    "    elif gender==\"F\":\n",
    "        if ms==\"M\":\n",
    "            r[\"Title\"]=\"Mrs.\"\n",
    "        elif ms==\"S\":\n",
    "            r[\"Title\"]=\"Ms.\"\n",
    "    return r\n",
    "\n",
    "df.apply(filterTitle, axis=1)"
   ]
  },
  {
   "cell_type": "markdown",
   "id": "088e14d8",
   "metadata": {},
   "source": [
    "\"mr\"in \"mr.\""
   ]
  },
  {
   "cell_type": "code",
   "execution_count": 94,
   "id": "cfa49e82",
   "metadata": {
    "scrolled": true
   },
   "outputs": [
    {
     "data": {
      "text/html": [
       "<div>\n",
       "<style scoped>\n",
       "    .dataframe tbody tr th:only-of-type {\n",
       "        vertical-align: middle;\n",
       "    }\n",
       "\n",
       "    .dataframe tbody tr th {\n",
       "        vertical-align: top;\n",
       "    }\n",
       "\n",
       "    .dataframe thead th {\n",
       "        text-align: right;\n",
       "    }\n",
       "</style>\n",
       "<table border=\"1\" class=\"dataframe\">\n",
       "  <thead>\n",
       "    <tr style=\"text-align: right;\">\n",
       "      <th></th>\n",
       "      <th>0</th>\n",
       "    </tr>\n",
       "  </thead>\n",
       "  <tbody>\n",
       "    <tr>\n",
       "      <th>count</th>\n",
       "      <td>1000.000000</td>\n",
       "    </tr>\n",
       "    <tr>\n",
       "      <th>mean</th>\n",
       "      <td>50.010434</td>\n",
       "    </tr>\n",
       "    <tr>\n",
       "      <th>std</th>\n",
       "      <td>0.996654</td>\n",
       "    </tr>\n",
       "    <tr>\n",
       "      <th>min</th>\n",
       "      <td>46.839581</td>\n",
       "    </tr>\n",
       "    <tr>\n",
       "      <th>25%</th>\n",
       "      <td>49.376842</td>\n",
       "    </tr>\n",
       "    <tr>\n",
       "      <th>50%</th>\n",
       "      <td>49.995419</td>\n",
       "    </tr>\n",
       "    <tr>\n",
       "      <th>75%</th>\n",
       "      <td>50.642212</td>\n",
       "    </tr>\n",
       "    <tr>\n",
       "      <th>max</th>\n",
       "      <td>53.132611</td>\n",
       "    </tr>\n",
       "  </tbody>\n",
       "</table>\n",
       "</div>"
      ],
      "text/plain": [
       "                 0\n",
       "count  1000.000000\n",
       "mean     50.010434\n",
       "std       0.996654\n",
       "min      46.839581\n",
       "25%      49.376842\n",
       "50%      49.995419\n",
       "75%      50.642212\n",
       "max      53.132611"
      ]
     },
     "execution_count": 94,
     "metadata": {},
     "output_type": "execute_result"
    }
   ],
   "source": [
    "pd.DataFrame(P).describe()"
   ]
  },
  {
   "cell_type": "code",
   "execution_count": 90,
   "id": "61c33b92",
   "metadata": {},
   "outputs": [
    {
     "data": {
      "text/plain": [
       "<AxesSubplot:ylabel='Count'>"
      ]
     },
     "execution_count": 90,
     "metadata": {},
     "output_type": "execute_result"
    },
    {
     "data": {
      "image/png": "[encoded data removed]",
      "text/plain": [
       "<Figure size 432x288 with 1 Axes>"
      ]
     },
     "metadata": {
      "needs_background": "light"
     },
     "output_type": "display_data"
    }
   ],
   "source": [
    "sns.histplot(P)"
   ]
  },
  {
   "cell_type": "code",
   "execution_count": 181,
   "id": "e8071c75",
   "metadata": {},
   "outputs": [
    {
     "data": {
      "text/plain": [
       "<AxesSubplot:ylabel='Count'>"
      ]
     },
     "execution_count": 181,
     "metadata": {},
     "output_type": "execute_result"
    },
    {
     "data": {
      "image/png": "[encoded data removed]",
      "text/plain": [
       "<Figure size 432x288 with 1 Axes>"
      ]
     },
     "metadata": {
      "needs_background": "light"
     },
     "output_type": "display_data"
    }
   ],
   "source": [
    "samples = []\n",
    "for i in range(300):\n",
    "    samples.append(np.random.choice(P, size=40))\n",
    "    \n",
    "means = [s.mean() for s in samples]\n",
    "    \n",
    "sns.histplot(means)"
   ]
  },
  {
   "cell_type": "code",
   "execution_count": 182,
   "id": "17a7a78b",
   "metadata": {},
   "outputs": [
    {
     "data": {
      "text/plain": [
       "0.16400521481904942"
      ]
     },
     "execution_count": 182,
     "metadata": {},
     "output_type": "execute_result"
    }
   ],
   "source": [
    "# STD of sampling dist = ST Error\n",
    "np.std(means)"
   ]
  },
  {
   "cell_type": "code",
   "execution_count": 185,
   "id": "48ae9c22",
   "metadata": {},
   "outputs": [
    {
     "data": {
      "text/plain": [
       "0.15121828194676562"
      ]
     },
     "execution_count": 185,
     "metadata": {},
     "output_type": "execute_result"
    }
   ],
   "source": [
    "# ST Error from 1 sample\n",
    "std_err = np.std(samples[1])/np.sqrt(40)\n",
    "std_err"
   ]
  },
  {
   "cell_type": "code",
   "execution_count": 202,
   "id": "4e9ccade",
   "metadata": {},
   "outputs": [
    {
     "data": {
      "text/plain": [
       "49.75713143153647"
      ]
     },
     "execution_count": 202,
     "metadata": {},
     "output_type": "execute_result"
    }
   ],
   "source": [
    "samples[1].mean()"
   ]
  },
  {
   "cell_type": "code",
   "execution_count": 204,
   "id": "c36f537f",
   "metadata": {},
   "outputs": [
    {
     "data": {
      "text/plain": [
       "-1.983887107681915"
      ]
     },
     "execution_count": 204,
     "metadata": {},
     "output_type": "execute_result"
    }
   ],
   "source": [
    "# p-value\n",
    "(49.7-50)/std_err"
   ]
  }
 ],
 "metadata": {
  "kernelspec": {
   "display_name": "Python 3 (ipykernel)",
   "language": "python",
   "name": "python3"
  },
  "language_info": {
   "codemirror_mode": {
    "name": "ipython",
    "version": 3
   },
   "file_extension": ".py",
   "mimetype": "text/x-python",
   "name": "python",
   "nbconvert_exporter": "python",
   "pygments_lexer": "ipython3",
   "version": "3.9.12"
  }
 },
 "nbformat": 4,
 "nbformat_minor": 5
}
