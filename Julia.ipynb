{
 "cells": [
  {
   "cell_type": "code",
   "execution_count": 1,
   "id": "044f1d34",
   "metadata": {},
   "outputs": [],
   "source": [
    "using TreeView"
   ]
  },
  {
   "cell_type": "code",
   "execution_count": 2,
   "id": "33ca3814",
   "metadata": {},
   "outputs": [
    {
     "name": "stdout",
     "output_type": "stream",
     "text": [
      "Expr\n",
      "  head: Symbol call\n",
      "  args: Array{Any}((3,))\n",
      "    1: Symbol +\n",
      "    2: Symbol x\n",
      "    3: Expr\n",
      "      head: Symbol call\n",
      "      args: Array{Any}((3,))\n",
      "        1: Symbol *\n",
      "        2: Symbol y\n",
      "        3: Symbol z\n"
     ]
    }
   ],
   "source": [
    "ex = :(x + y * z)\n",
    "dump(ex)"
   ]
  },
  {
   "cell_type": "code",
   "execution_count": 10,
   "id": "efcffcff",
   "metadata": {},
   "outputs": [
    {
     "data": {
      "text/plain": [
       "LabelledTree(Graphs.SimpleGraphs.SimpleDiGraph{Int64}(6, [[2, 5], [3, 4], Int64[], Int64[], [6, 7], Int64[], Int64[]], [Int64[], [1], [2], [2], [1], [5], [5]]), Any[:+, :^, :x, 2, :^, :y, 2])"
      ]
     },
     "execution_count": 10,
     "metadata": {},
     "output_type": "execute_result"
    }
   ],
   "source": [
    "@tree x^2 + y^2"
   ]
  },
  {
   "cell_type": "code",
   "execution_count": null,
   "id": "379f78cb",
   "metadata": {},
   "outputs": [],
   "source": []
  }
 ],
 "metadata": {
  "kernelspec": {
   "display_name": "Julia 1.8.2",
   "language": "julia",
   "name": "julia-1.8"
  },
  "language_info": {
   "file_extension": ".jl",
   "mimetype": "application/julia",
   "name": "julia",
   "version": "1.8.2"
  }
 },
 "nbformat": 4,
 "nbformat_minor": 5
}
