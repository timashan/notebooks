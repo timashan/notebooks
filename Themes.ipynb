{
 "cells": [
  {
   "cell_type": "code",
   "execution_count": 10,
   "id": "a7c37ecd",
   "metadata": {},
   "outputs": [
    {
     "name": "stdout",
     "output_type": "stream",
     "text": [
      "Available Themes: \n",
      "   chesterish\n",
      "   grade3\n",
      "   gruvboxd\n",
      "   gruvboxl\n",
      "   monokai\n",
      "   oceans16\n",
      "   onedork\n",
      "   solarizedd\n",
      "   solarizedl\n"
     ]
    }
   ],
   "source": [
    "!jt -l"
   ]
  },
  {
   "cell_type": "code",
   "execution_count": 2,
   "id": "ee948541",
   "metadata": {},
   "outputs": [],
   "source": [
    "#dark\n",
    "!jt -t monokai -T -N -kl"
   ]
  },
  {
   "cell_type": "code",
   "execution_count": null,
   "id": "bfb8754a",
   "metadata": {},
   "outputs": [],
   "source": [
    "#ligth\n",
    "!jt -t grade3 -T -N -kl"
   ]
  },
  {
   "cell_type": "code",
   "execution_count": 3,
   "id": "0b429038",
   "metadata": {},
   "outputs": [],
   "source": [
    "!jt -t monokai -fs 95 -altp -tfs 11 -nfs 115 -cellw 88% -T"
   ]
  },
  {
   "cell_type": "code",
   "execution_count": 1,
   "id": "5b29db06",
   "metadata": {},
   "outputs": [
    {
     "name": "stdout",
     "output_type": "stream",
     "text": [
      "Reset css and font defaults in:\n",
      "C:\\Users\\kavis\\.jupyter\\custom &\n",
      "C:\\Users\\kavis\\AppData\\Roaming\\jupyter\\nbextensions\n"
     ]
    }
   ],
   "source": [
    "!jt -r"
   ]
  },
  {
   "cell_type": "code",
   "execution_count": null,
   "id": "510abaf1",
   "metadata": {},
   "outputs": [],
   "source": []
  }
 ],
 "metadata": {
  "kernelspec": {
   "display_name": "Python 3 (ipykernel)",
   "language": "python",
   "name": "python3"
  },
  "language_info": {
   "codemirror_mode": {
    "name": "ipython",
    "version": 3
   },
   "file_extension": ".py",
   "mimetype": "text/x-python",
   "name": "python",
   "nbconvert_exporter": "python",
   "pygments_lexer": "ipython3",
   "version": "3.9.12"
  }
 },
 "nbformat": 4,
 "nbformat_minor": 5
}
