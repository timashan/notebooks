{
 "cells": [
  {
   "cell_type": "code",
   "execution_count": 3,
   "id": "ebc60f87",
   "metadata": {},
   "outputs": [],
   "source": [
    "import numpy as np\n",
    "import pandas as pd\n",
    "import matplotlib.pyplot as plt\n",
    "import seaborn as sns\n",
    "from sklearn import datasets\n",
    "from sklearn.model_selection import train_test_split\n",
    "import math"
   ]
  },
  {
   "cell_type": "markdown",
   "id": "9e7aedde",
   "metadata": {},
   "source": [
    "# Logistic Function\n",
    "We don't want continous values like in LR, just probabilities. So we use the Sigmoid fn."
   ]
  },
  {
   "cell_type": "markdown",
   "id": "50da3ed7",
   "metadata": {},
   "source": [
    "# Logit\n",
    "Log of odds\\\n",
    "Natural log to scale from -$\\infty$ to $\\infty$"
   ]
  },
  {
   "cell_type": "code",
   "execution_count": 128,
   "id": "73e6ad6e",
   "metadata": {},
   "outputs": [],
   "source": [
    "logit = lambda p:math.log(p/(1-p))"
   ]
  },
  {
   "cell_type": "code",
   "execution_count": 129,
   "id": "62cd3ba0",
   "metadata": {},
   "outputs": [
    {
     "name": "stdout",
     "output_type": "stream",
     "text": [
      "-2.197224577336219 0.0 2.1972245773362196\n"
     ]
    }
   ],
   "source": [
    "print(\n",
    "logit(0.1),\n",
    "logit(0.5),\n",
    "logit(0.9)\n",
    ")"
   ]
  },
  {
   "cell_type": "code",
   "execution_count": 146,
   "id": "d6c923b0",
   "metadata": {},
   "outputs": [],
   "source": [
    "range_ = np.array(range(1, 1000)) / 1000\n",
    "ys = [logit(p) for p in range_]"
   ]
  },
  {
   "cell_type": "code",
   "execution_count": 153,
   "id": "cba692bd",
   "metadata": {},
   "outputs": [
    {
     "data": {
      "text/plain": [
       "[<matplotlib.lines.Line2D at 0x1e3cc0dbd60>]"
      ]
     },
     "execution_count": 153,
     "metadata": {},
     "output_type": "execute_result"
    },
    {
     "data": {
      "image/png": "[encoded data removed]",
      "text/plain": [
       "<Figure size 432x288 with 1 Axes>"
      ]
     },
     "metadata": {
      "needs_background": "light"
     },
     "output_type": "display_data"
    }
   ],
   "source": [
    "plt.plot(range_, ys)"
   ]
  },
  {
   "cell_type": "markdown",
   "id": "46937f2a",
   "metadata": {},
   "source": [
    "# Sigmoid\n",
    "Inverse of Logit"
   ]
  },
  {
   "cell_type": "code",
   "execution_count": 130,
   "id": "6c5dec5a",
   "metadata": {},
   "outputs": [],
   "source": [
    "sigmoid = lambda p:1/(1+np.exp(-p))"
   ]
  },
  {
   "cell_type": "code",
   "execution_count": 147,
   "id": "a7e341ac",
   "metadata": {},
   "outputs": [
    {
     "name": "stdout",
     "output_type": "stream",
     "text": [
      "0.0066928509242848554 0.5 0.9933071490757153\n"
     ]
    }
   ],
   "source": [
    "print(\n",
    "sigmoid(-5),\n",
    "sigmoid(0),\n",
    "sigmoid(5)\n",
    ")"
   ]
  },
  {
   "cell_type": "code",
   "execution_count": 161,
   "id": "4e372a16",
   "metadata": {},
   "outputs": [],
   "source": [
    "range_ = np.array(range(-10, 10))\n",
    "ys = [sigmoid(p) for p in range_]"
   ]
  },
  {
   "cell_type": "code",
   "execution_count": 160,
   "id": "a249c257",
   "metadata": {},
   "outputs": [
    {
     "data": {
      "text/plain": [
       "[<matplotlib.lines.Line2D at 0x1e3cc3993a0>]"
      ]
     },
     "execution_count": 160,
     "metadata": {},
     "output_type": "execute_result"
    },
    {
     "data": {
      "image/png": "[encoded data removed]",
      "text/plain": [
       "<Figure size 432x288 with 1 Axes>"
      ]
     },
     "metadata": {
      "needs_background": "light"
     },
     "output_type": "display_data"
    }
   ],
   "source": [
    "plt.plot(range_, ys)"
   ]
  },
  {
   "cell_type": "code",
   "execution_count": 43,
   "id": "6c7f7d1d",
   "metadata": {},
   "outputs": [],
   "source": [
    "data = datasets.load_breast_cancer()\n",
    "X = data[\"data\"]\n",
    "y = data[\"target\"]\n",
    "X_train, X_test, y_train, y_test = train_test_split(X, y, test_size=0.33, random_state=42)"
   ]
  },
  {
   "cell_type": "markdown",
   "id": "ff2573c8",
   "metadata": {},
   "source": [
    "$\\frac{1}{N}\\epsilon{-2x_i(y_i-(wx_i+b))}$\n",
    "\n",
    "$\\frac{1}{N}\\epsilon{-2(y_i-(wx_i+b))}$"
   ]
  },
  {
   "cell_type": "code",
   "execution_count": 85,
   "id": "346f820e",
   "metadata": {},
   "outputs": [],
   "source": [
    "class LogisticRegression:\n",
    "    def __init__(self, lr=0.001, n_iters=1000):\n",
    "        self.lr = lr\n",
    "        self.n_iters = n_iters\n",
    "        self.weights = None\n",
    "        self.bias = None\n",
    "        \n",
    "    def sigmoid(self, x):\n",
    "        return 1 / (1 + np.exp(-x))\n",
    "    \n",
    "    def fit(self, X, y):\n",
    "        n_samples, n_features = np.shape(X)\n",
    "        self.weights = np.zeros(n_features)\n",
    "        self.bias = 0\n",
    "\n",
    "        for _ in range(self.n_iters):\n",
    "            pred__y = np.dot(X, self.weights) + self.bias\n",
    "            pred_y = self.sigmoid(pred__y)\n",
    "            \n",
    "            dw = (2/n_samples) * np.dot(X.T, (pred_y - y))\n",
    "            db = (2/n_samples) * np.sum((pred_y - y))\n",
    "            \n",
    "            self.weights -= self.lr * dw\n",
    "            self.bias -= self.lr * db\n",
    "    \n",
    "    def predict(self, X):\n",
    "        pred__y = np.dot(X, self.weights) + self.bias\n",
    "        pred_y = self.sigmoid(pred__y)\n",
    "        return [1 if y>=0.5 else 0 for y in pred_y]"
   ]
  },
  {
   "cell_type": "code",
   "execution_count": 87,
   "id": "33c40df9",
   "metadata": {},
   "outputs": [
    {
     "name": "stderr",
     "output_type": "stream",
     "text": [
      "C:\\Users\\kavis\\AppData\\Local\\Temp\\ipykernel_7464\\3861074126.py:9: RuntimeWarning: overflow encountered in exp\n",
      "  return 1 / (1 + np.exp(-x))\n"
     ]
    }
   ],
   "source": [
    "model = LogisticRegression()\n",
    "model.fit(X_train, y_train)\n",
    "pred = model.predict(X_test)"
   ]
  },
  {
   "cell_type": "code",
   "execution_count": 89,
   "id": "a83845c8",
   "metadata": {},
   "outputs": [
    {
     "data": {
      "text/plain": [
       "0.925531914893617"
      ]
     },
     "execution_count": 89,
     "metadata": {},
     "output_type": "execute_result"
    }
   ],
   "source": [
    "np.sum(pred == y_test)/len(pred)"
   ]
  },
  {
   "cell_type": "markdown",
   "id": "1d91ace7",
   "metadata": {},
   "source": [
    "## Binary Entropy Loss Function"
   ]
  },
  {
   "cell_type": "code",
   "execution_count": 37,
   "id": "e14defd7",
   "metadata": {},
   "outputs": [
    {
     "data": {
      "text/plain": [
       "2.8156378919347262"
      ]
     },
     "execution_count": 37,
     "metadata": {},
     "output_type": "execute_result"
    }
   ],
   "source": [
    "loss = lambda y, y_hat: -np.mean(y*(np.log(y_hat)) - (1-y)*np.log(1-y_hat))\n",
    "loss(np.array([1,3]), np.array([0.7,0.2]))"
   ]
  },
  {
   "cell_type": "code",
   "execution_count": null,
   "id": "f5dc01fc",
   "metadata": {},
   "outputs": [],
   "source": []
  }
 ],
 "metadata": {
  "kernelspec": {
   "display_name": "Python 3 (ipykernel)",
   "language": "python",
   "name": "python3"
  },
  "language_info": {
   "codemirror_mode": {
    "name": "ipython",
    "version": 3
   },
   "file_extension": ".py",
   "mimetype": "text/x-python",
   "name": "python",
   "nbconvert_exporter": "python",
   "pygments_lexer": "ipython3",
   "version": "3.9.12"
  }
 },
 "nbformat": 4,
 "nbformat_minor": 5
}
