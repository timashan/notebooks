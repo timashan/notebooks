{
 "cells": [
  {
   "cell_type": "code",
   "execution_count": 1,
   "id": "2c0601ea",
   "metadata": {},
   "outputs": [],
   "source": [
    "import numpy as np\n",
    "import pandas as pd\n",
    "import matplotlib.pyplot as plt\n",
    "import seaborn as sns\n",
    "from sklearn import datasets\n",
    "from sklearn.model_selection import train_test_split\n",
    "import math\n",
    "from collections import Counter"
   ]
  },
  {
   "cell_type": "markdown",
   "id": "12fb02f6",
   "metadata": {},
   "source": [
    "When a decision Tree\\\n",
    "Classifies categories -> Classification Tree\\\n",
    "predicts numerical values -> Regression Tree\n",
    "\n",
    "1. Root/Root Node\n",
    "2. Internal Nodes/Branches\n",
    "3. Leaf Node/Leafs\n",
    "\n",
    "Impure leaves if quantification is mixed\n",
    "At each node we want to find out the best split value, best split treshhold\n",
    "\n",
    "**Gini Impurity/ Entropy Gain/ Information Gain**\n",
    "\n",
    "IG = E(P) - [Weighted Avg] . E(Children)\n",
    "\n",
    "stopping criteria: max depth, min node samples, no more class distribution"
   ]
  },
  {
   "cell_type": "code",
   "execution_count": 2,
   "id": "f091611d",
   "metadata": {},
   "outputs": [],
   "source": [
    "data = datasets.load_breast_cancer()\n",
    "X, y = data.data, data.target\n",
    "X, y = datasets.make_classification(n_samples=1000, n_features=10, n_classes=2, random_state=42)\n",
    "X_train, X_test, y_train, y_test = train_test_split(X, y, test_size=0.33, random_state=42)"
   ]
  },
  {
   "cell_type": "code",
   "execution_count": 3,
   "id": "4d0afb69",
   "metadata": {},
   "outputs": [],
   "source": [
    "def printAll(*ps) : \n",
    "    [print(p) for p in ps]"
   ]
  },
  {
   "cell_type": "code",
   "execution_count": 164,
   "id": "78692463",
   "metadata": {},
   "outputs": [
    {
     "name": "stdout",
     "output_type": "stream",
     "text": [
      "[1 2]\n",
      "[(1, 2), (0, 1)]\n",
      "[[0]\n",
      " [1]\n",
      " [4]\n",
      " [5]]\n"
     ]
    }
   ],
   "source": [
    "printAll(\n",
    "np.bincount([0,1,1]),\n",
    "Counter([0,1,1]).most_common(),\n",
    ")"
   ]
  },
  {
   "cell_type": "code",
   "execution_count": 30,
   "id": "de26b389",
   "metadata": {
    "scrolled": true
   },
   "outputs": [
    {
     "name": "stdout",
     "output_type": "stream",
     "text": [
      "[152 178]\n",
      "[0.46060606 0.53939394]\n"
     ]
    }
   ],
   "source": [
    "printAll(\n",
    "np.bincount(y_test),\n",
    "np.bincount(y_test)/len(y_test)\n",
    ")"
   ]
  },
  {
   "cell_type": "code",
   "execution_count": 135,
   "id": "30d785c1",
   "metadata": {
    "scrolled": true
   },
   "outputs": [
    {
     "data": {
      "text/plain": [
       "array([8, 5, 7])"
      ]
     },
     "execution_count": 135,
     "metadata": {},
     "output_type": "execute_result"
    }
   ],
   "source": [
    "np.random.choice(10 ,3)\n",
    "np.random.choice(10 ,3)"
   ]
  },
  {
   "cell_type": "code",
   "execution_count": 167,
   "id": "03b8d1bc",
   "metadata": {},
   "outputs": [
    {
     "name": "stdout",
     "output_type": "stream",
     "text": [
      "[[2]\n",
      " [3]]\n",
      "[2 3]\n"
     ]
    }
   ],
   "source": [
    "printAll(\n",
    "    np.argwhere(np.array([0,0,1,1])==1),\n",
    "    np.argwhere(np.array([0,0,1,1])==1).flatten()\n",
    ")"
   ]
  },
  {
   "cell_type": "markdown",
   "id": "a2351fcf",
   "metadata": {},
   "source": [
    "## Suprise"
   ]
  },
  {
   "cell_type": "code",
   "execution_count": 127,
   "id": "4dc3024f",
   "metadata": {},
   "outputs": [
    {
     "name": "stdout",
     "output_type": "stream",
     "text": [
      "Undefined\n",
      "3.321928094887362\n",
      "1.0\n",
      "0.15200309344505006\n",
      "0.0\n"
     ]
    }
   ],
   "source": [
    "def surprise(p):\n",
    "    if p==0:\n",
    "        return \"Undefined\"\n",
    "    return np.log2(1/p)\n",
    "    \n",
    "printAll(\n",
    "    surprise(0),\n",
    "    surprise(0.1),\n",
    "    surprise(0.5),\n",
    "    surprise(0.9),\n",
    "    surprise(1)\n",
    ")"
   ]
  },
  {
   "cell_type": "markdown",
   "id": "63efc864",
   "metadata": {},
   "source": [
    "## Entropy"
   ]
  },
  {
   "cell_type": "code",
   "execution_count": 146,
   "id": "88933182",
   "metadata": {},
   "outputs": [
    {
     "name": "stdout",
     "output_type": "stream",
     "text": [
      "1.0\n",
      "0.4689955935892812\n",
      "0.08079313589591118\n",
      "-0.0\n"
     ]
    }
   ],
   "source": [
    "def entropy(ps):\n",
    "    return -np.sum([p * np.log2(p) for p in ps if p>0])\n",
    "\n",
    "printAll(\n",
    "    entropy([0.5,0.5]),\n",
    "    entropy([0.9,0.1]),\n",
    "    entropy([0.99,0.01]),\n",
    "    entropy([1, 0]),\n",
    ")"
   ]
  },
  {
   "cell_type": "code",
   "execution_count": 147,
   "id": "a518af50",
   "metadata": {
    "scrolled": false
   },
   "outputs": [
    {
     "data": {
      "text/plain": [
       "0.8112781244591328"
      ]
     },
     "execution_count": 147,
     "metadata": {},
     "output_type": "execute_result"
    }
   ],
   "source": [
    "def entropy_(y):\n",
    "    hist = np.bincount(y)\n",
    "    ps = hist/len(y)\n",
    "    return entropy(ps)\n",
    "\n",
    "entropy_([1,1,1,0])"
   ]
  },
  {
   "cell_type": "markdown",
   "id": "9bf2eaf8",
   "metadata": {},
   "source": [
    "## Information Gain\n",
    "\n",
    "IG = E(P) - [Weighted Avg] . E(Children)"
   ]
  },
  {
   "cell_type": "code",
   "execution_count": 198,
   "id": "5ac2cc72",
   "metadata": {},
   "outputs": [
    {
     "data": {
      "text/plain": [
       "0.12808527889139443"
      ]
     },
     "execution_count": 198,
     "metadata": {},
     "output_type": "execute_result"
    }
   ],
   "source": [
    "X = np.array([1,1,0,0,1,1,0])\n",
    "y = np.array([0,0,1,1,1,0,0])\n",
    "\n",
    "parent_entropy = entropy_(y)\n",
    "\n",
    "l_idxs = np.argwhere(X==0).flatten()\n",
    "r_idxs = np.argwhere(X==1).flatten()\n",
    "\n",
    "n, n_l, n_r = len(y), len(l_idxs), len(r_idxs)\n",
    "\n",
    "l_y, r_y = y[l_idxs], y[r_idxs]\n",
    "\n",
    "e_l, e_r = entropy_(l_y), entropy_(r_y)\n",
    "\n",
    "child_entropy = (n_l/n) * e_l + (n_r/n) * e_r\n",
    "\n",
    "parent_entropy - child_entropy"
   ]
  },
  {
   "cell_type": "code",
   "execution_count": 142,
   "id": "ed335546",
   "metadata": {},
   "outputs": [],
   "source": [
    "class DecisionTree:\n",
    "    def __init__(self):\n",
    "        pass\n",
    "    \n",
    "    def fit(self, X, y):\n",
    "        self.n_features = X.shape[1]\n",
    "        self._grow_tree(X, y)\n",
    "        \n",
    "    def predict(self, X):\n",
    "        pass\n",
    "        \n",
    "    def _grow_tree(self, X, y):\n",
    "        n_samples, n_feats = X.shape # 670, 10\n",
    "        n_labels = len(np.unique(y)) # 2\n",
    "\n",
    "        # Stopping Criteria\n",
    "        \n",
    "        print(self.n_features)"
   ]
  },
  {
   "cell_type": "code",
   "execution_count": 143,
   "id": "ece1ac16",
   "metadata": {},
   "outputs": [
    {
     "name": "stdout",
     "output_type": "stream",
     "text": [
      "10\n"
     ]
    }
   ],
   "source": [
    "model = DecisionTree()\n",
    "model.fit(X_train, y_train)\n",
    "model.predict(X_test)"
   ]
  },
  {
   "cell_type": "code",
   "execution_count": null,
   "id": "d0445f56",
   "metadata": {},
   "outputs": [],
   "source": []
  }
 ],
 "metadata": {
  "kernelspec": {
   "display_name": "Python 3 (ipykernel)",
   "language": "python",
   "name": "python3"
  },
  "language_info": {
   "codemirror_mode": {
    "name": "ipython",
    "version": 3
   },
   "file_extension": ".py",
   "mimetype": "text/x-python",
   "name": "python",
   "nbconvert_exporter": "python",
   "pygments_lexer": "ipython3",
   "version": "3.9.12"
  }
 },
 "nbformat": 4,
 "nbformat_minor": 5
}
