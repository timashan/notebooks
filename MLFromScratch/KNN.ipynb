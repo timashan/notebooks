{
 "cells": [
  {
   "cell_type": "code",
   "execution_count": 2,
   "id": "4697a5c3",
   "metadata": {},
   "outputs": [],
   "source": [
    "import numpy as np\n",
    "import pandas as pd\n",
    "import matplotlib.pyplot as plt\n",
    "import seaborn as sns\n",
    "from sklearn import datasets\n",
    "from sklearn.model_selection import train_test_split\n",
    "from collections import Counter"
   ]
  },
  {
   "cell_type": "markdown",
   "id": "3b156247",
   "metadata": {},
   "source": [
    "## Euclidean Distance\n",
    "$\\sqrt{\\epsilon(q_i-p_i)^2}$\n",
    "\n",
    "$\\sqrt{(x_1-x_2)^2+(y_1+y_2)^2}$\n",
    "\n",
    "similar to pythagoras; $h = \\sqrt{a^2 + b^2}$ "
   ]
  },
  {
   "cell_type": "code",
   "execution_count": 142,
   "id": "844de2e8",
   "metadata": {},
   "outputs": [
    {
     "data": {
      "text/plain": [
       "2.8390139133156778"
      ]
     },
     "execution_count": 142,
     "metadata": {},
     "output_type": "execute_result"
    }
   ],
   "source": [
    "np.sqrt(np.sum((np.array([5.7, 2.9, 4.2, 1.3]) - np.array([5.7, 3.8, 1.7, 0.3]))**2))"
   ]
  },
  {
   "cell_type": "code",
   "execution_count": 4,
   "id": "61f29305",
   "metadata": {},
   "outputs": [
    {
     "data": {
      "text/plain": [
       "[(2, 3)]"
      ]
     },
     "execution_count": 4,
     "metadata": {},
     "output_type": "execute_result"
    }
   ],
   "source": [
    "Counter([1,1,2,2,2]).most_common(1)"
   ]
  },
  {
   "cell_type": "code",
   "execution_count": 6,
   "id": "d7d57c34",
   "metadata": {},
   "outputs": [
    {
     "data": {
      "text/plain": [
       "dict_keys(['data', 'target', 'frame', 'target_names', 'DESCR', 'feature_names', 'filename', 'data_module'])"
      ]
     },
     "execution_count": 6,
     "metadata": {},
     "output_type": "execute_result"
    }
   ],
   "source": [
    "data = datasets.load_iris()\n",
    "dict.keys(data)"
   ]
  },
  {
   "cell_type": "code",
   "execution_count": 34,
   "id": "af6ae4f3",
   "metadata": {},
   "outputs": [],
   "source": [
    "X, y = data['data'], data['target']\n",
    "\n",
    "X_train, X_test, y_train, y_test = train_test_split(X, y, test_size=0.33, random_state=42)"
   ]
  },
  {
   "cell_type": "code",
   "execution_count": 251,
   "id": "c3fd697a",
   "metadata": {},
   "outputs": [],
   "source": [
    "def euclidean_dist(x1, x2):\n",
    "    return np.sqrt(np.sum((x1-x2)**2))\n",
    "\n",
    "class KNN:\n",
    "    def __init__(self, k=3):\n",
    "        self.k = k\n",
    "        \n",
    "    def fit(self, X, y):\n",
    "        self.X_train = X\n",
    "        self.y_train = y\n",
    "    \n",
    "    def predict(self, X):\n",
    "        return [self.predict_(x) for x in X]\n",
    "    \n",
    "    def predict_(self, x):\n",
    "        dist = [euclidean_dist(x, x_train) for x_train in self.X_train]\n",
    "        k_idxs = np.argsort(dist)[:self.k]\n",
    "        k_labels = [self.y_train[i] for i in k_idxs]\n",
    "        return Counter(k_labels).most_common(1)[0][0]"
   ]
  },
  {
   "cell_type": "code",
   "execution_count": 252,
   "id": "57bdb474",
   "metadata": {},
   "outputs": [],
   "source": [
    "model = KNN(3)\n",
    "model.fit(X_train, y_train)\n",
    "pred = model.predict(X_test)"
   ]
  },
  {
   "cell_type": "code",
   "execution_count": 253,
   "id": "44557da5",
   "metadata": {},
   "outputs": [
    {
     "data": {
      "text/plain": [
       "0.98"
      ]
     },
     "execution_count": 253,
     "metadata": {},
     "output_type": "execute_result"
    }
   ],
   "source": [
    "np.sum(pred == y_test)/len(pred)"
   ]
  },
  {
   "cell_type": "code",
   "execution_count": 241,
   "id": "73474629",
   "metadata": {},
   "outputs": [
    {
     "data": {
      "text/plain": [
       "array([0, 1, 3, 2], dtype=int64)"
      ]
     },
     "execution_count": 241,
     "metadata": {},
     "output_type": "execute_result"
    }
   ],
   "source": [
    "np.argsort([1,2,7,5])"
   ]
  },
  {
   "cell_type": "code",
   "execution_count": null,
   "id": "83bbe378",
   "metadata": {},
   "outputs": [],
   "source": []
  }
 ],
 "metadata": {
  "kernelspec": {
   "display_name": "Python 3 (ipykernel)",
   "language": "python",
   "name": "python3"
  },
  "language_info": {
   "codemirror_mode": {
    "name": "ipython",
    "version": 3
   },
   "file_extension": ".py",
   "mimetype": "text/x-python",
   "name": "python",
   "nbconvert_exporter": "python",
   "pygments_lexer": "ipython3",
   "version": "3.9.12"
  }
 },
 "nbformat": 4,
 "nbformat_minor": 5
}
