{
 "cells": [
  {
   "cell_type": "code",
   "execution_count": 3,
   "id": "75787191",
   "metadata": {},
   "outputs": [],
   "source": [
    "import numpy as np\n",
    "import pandas as pd\n",
    "import matplotlib.pyplot as plt\n",
    "import seaborn as sns\n",
    "from sklearn import datasets\n",
    "from sklearn.model_selection import train_test_split\n",
    "import math"
   ]
  },
  {
   "cell_type": "markdown",
   "id": "e19d4895",
   "metadata": {},
   "source": [
    "Naive bayes is Naive coz it doesn't care about word order.\\\n",
    "High bias, low variance\\\n",
    "Features are independent.\\\n",
    "Continous Values are bad.\n",
    "\n",
    "https://www.youtube.com/watch?v=O2L2Uv9pdDA"
   ]
  },
  {
   "cell_type": "markdown",
   "id": "399181b8",
   "metadata": {},
   "source": [
    "$P(A|B) = \\frac{P(B|A)*P(A)}{P(B)}$\n",
    "\n",
    "$P(y|X) = \\frac{P(X|y)*P(y)}{P(X)}$\n",
    "\n",
    "$P(y|X) = \\frac{P(X_1|y)*P(X_2|y)*...*P(X_n|y)*P(y)}{P(X)}$\n",
    "\n",
    "denomiator is ignored"
   ]
  },
  {
   "cell_type": "code",
   "execution_count": 174,
   "id": "bff5e602",
   "metadata": {},
   "outputs": [],
   "source": [
    "X, y = datasets.make_classification(n_samples=1000, n_features=10, n_classes=2, random_state=42)\n",
    "X_train, X_test, y_train, y_test = train_test_split(X, y, test_size=0.33, random_state=42)"
   ]
  },
  {
   "cell_type": "code",
   "execution_count": 158,
   "id": "8754ba4d",
   "metadata": {
    "scrolled": true
   },
   "outputs": [
    {
     "name": "stdout",
     "output_type": "stream",
     "text": [
      "3\n",
      "[1 2 5]\n",
      "[ 0.0437627  -0.0168064   0.03710741 -0.04153502 -0.04949119  0.06984206\n",
      " -0.04991639 -0.09314906 -0.05348987  0.00113037]\n"
     ]
    }
   ],
   "source": [
    "def printAll(*ps) : \n",
    "    [print(p) for p in ps]\n",
    "\n",
    "printAll(\n",
    "np.argmax([1,1,2,5]),\n",
    "np.unique([1,1,2,5]),\n",
    "X_train.mean(axis=0)\n",
    ")"
   ]
  },
  {
   "cell_type": "code",
   "execution_count": 159,
   "id": "f4cd7bf4",
   "metadata": {},
   "outputs": [],
   "source": [
    "class NaiveBayes:\n",
    "    def fit(self, X, y):\n",
    "        n_samples, n_features = X.shape\n",
    "        self._classes = np.unique(y)\n",
    "        n_classes = len(self._classes)\n",
    "        \n",
    "        self._mean = np.zeros((n_classes, n_features), dtype=np.float64)\n",
    "        self._var = np.zeros((n_classes, n_features), dtype=np.float64)\n",
    "        self._priors = np.zeros(n_classes, dtype=np.float64)\n",
    "        \n",
    "        for i, c in enumerate(self._classes):\n",
    "            # Features for each class\n",
    "            X_c = X[y==c]\n",
    "            # Mean & Variance for each feature\n",
    "            self._mean[i,:] = X_c.mean(axis=0)\n",
    "            self._var[i,:] = X_c.var(axis=0)\n",
    "            # Relative frequencies of classes as Priors\n",
    "            self._priors[i] = (X_c.shape[0]/n_samples)\n",
    "#         printAll(\n",
    "#         self._mean,\n",
    "#         self._var,\n",
    "#         self._priors)\n",
    "\n",
    "    def predict(self, X):\n",
    "        return [self._predict(x) for x in X]\n",
    "    \n",
    "    def _predict(self, x):\n",
    "        poss = []\n",
    "        for i, c in enumerate(self._classes):\n",
    "            prior = np.log(self._priors[i])\n",
    "            pos = np.sum(np.log(self._pdf(i, x)))\n",
    "            # Logs so we sum em up\n",
    "            pos = pos + prior\n",
    "            poss.append(pos)\n",
    "        return self._classes[np.argmax(poss)]\n",
    "    \n",
    "    def _pdf(self, i, x):\n",
    "        # Returns list of pdfs for each feature\n",
    "        mean = self._mean[i]\n",
    "        var = self._var[i]\n",
    "        numerator = np.exp(-((x - mean) ** 2) / (2 * var))\n",
    "        denominator = np.sqrt(2 * np.pi * var)\n",
    "        return numerator / denominator\n",
    "    "
   ]
  },
  {
   "cell_type": "code",
   "execution_count": 175,
   "id": "ccd39895",
   "metadata": {
    "scrolled": true
   },
   "outputs": [],
   "source": [
    "model = NaiveBayes()\n",
    "model.fit(X_train, y_train)\n",
    "pred = model.predict(X_test)"
   ]
  },
  {
   "cell_type": "code",
   "execution_count": 176,
   "id": "e00162c2",
   "metadata": {},
   "outputs": [
    {
     "data": {
      "text/plain": [
       "0.8242424242424242"
      ]
     },
     "execution_count": 176,
     "metadata": {},
     "output_type": "execute_result"
    }
   ],
   "source": [
    "np.sum(y_test == pred)/len(pred)"
   ]
  }
 ],
 "metadata": {
  "kernelspec": {
   "display_name": "Python 3 (ipykernel)",
   "language": "python",
   "name": "python3"
  },
  "language_info": {
   "codemirror_mode": {
    "name": "ipython",
    "version": 3
   },
   "file_extension": ".py",
   "mimetype": "text/x-python",
   "name": "python",
   "nbconvert_exporter": "python",
   "pygments_lexer": "ipython3",
   "version": "3.9.12"
  }
 },
 "nbformat": 4,
 "nbformat_minor": 5
}
