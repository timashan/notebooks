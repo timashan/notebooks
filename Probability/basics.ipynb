{
 "cells": [
  {
   "cell_type": "markdown",
   "id": "4e3cd853",
   "metadata": {},
   "source": [
    "# Probability"
   ]
  },
  {
   "cell_type": "markdown",
   "id": "d835c1f9",
   "metadata": {},
   "source": [
    "A: event\\\n",
    "P(A): probability\n",
    "\n",
    "**Theoretical (True) Probabilities:** \n",
    "$P(A) = \\frac{preferred}{all} = \\frac{favourable}{sample.space}$\n",
    "\n",
    "**idependent**\\\n",
    "P(A and B) = P(A).P(B)\n",
    "\n",
    "**Expected Value:**\\\n",
    "The avg outcome we expect\n",
    "\n",
    "**Experimental Probabilities:**\n",
    "$P(A) = \\frac{successful.trials}{all.trials}$\n",
    "\n",
    "**Categorical Outcomes:**\\\n",
    "$E(A) = P(A) * n$\n",
    "\n",
    "**Numerical Outcomes:**\\\n",
    "$E(X) = P(A).A + P(B).B$\n",
    "\n",
    "Addtion of all probabilities = 1"
   ]
  },
  {
   "cell_type": "markdown",
   "id": "7cfc804b",
   "metadata": {},
   "source": [
    "### Complement\n",
    "\n",
    "$A'$: not A\n",
    "\n",
    "$(A')' = A$\n",
    "\n",
    "---\n",
    "\n",
    "$P(A) + P(B) + P(C) = 1$\\\n",
    "$A = B + C$\\\n",
    "$P(A') = 1 - P(A)$"
   ]
  },
  {
   "cell_type": "markdown",
   "id": "582840ba",
   "metadata": {},
   "source": [
    "## Combinotorics"
   ]
  },
  {
   "cell_type": "markdown",
   "id": "6eba3d34",
   "metadata": {},
   "source": [
    "### Permutations\n",
    "\n",
    "No. of ways to arrange a set of elements\\\n",
    "$P_n = n!$\n",
    "\n",
    "**Factorial:**\n",
    "* n! = 1 x 2 x 3 x n \n",
    "* negatives have no factorial\n",
    "* 0! = 1\n",
    "\n",
    "**properties**\n",
    "* n! = (n!-1) x n\n",
    "* (n+1)! = n! x (n+1)!\n",
    "---\n",
    "* (n+k) = n! x (n+1) x (n+2) x (n+k)\n",
    "* (n-k) = $\\frac{n!}{(n-k-1) \\times (n-k-2) \\times n}$\n",
    "---\n",
    "* $\\frac{n!}{k!} = (k+1) \\times (k+2) \\times ... \\times n$"
   ]
  },
  {
   "cell_type": "markdown",
   "id": "99469a4e",
   "metadata": {},
   "source": [
    "### Variations\n",
    "\n",
    "n: No of elements\\\n",
    "p: no of positions"
   ]
  },
  {
   "cell_type": "markdown",
   "id": "fe4ea00e",
   "metadata": {},
   "source": [
    "#### Variations with repetitions\n",
    "like multiplying diff sample spaces\n",
    "\n",
    "$\\bar{V}_p^n = n^p$"
   ]
  },
  {
   "cell_type": "markdown",
   "id": "d23dcfa3",
   "metadata": {},
   "source": [
    "#### Variations without repetitions\n",
    "\n",
    "$V_p^n = \\frac{n!}{(n-p)!}$"
   ]
  },
  {
   "cell_type": "markdown",
   "id": "13fa1154",
   "metadata": {},
   "source": [
    "### Combinations\n",
    "\n",
    "without double counting\\\n",
    "order irrelevant [1,2] == [2,1]\n",
    "\n",
    "#### without repetition\n",
    "$C_p^n = \\frac{V_p^n}{P_p} = \\frac{n!}{p!(n-p)!}$\n",
    "\n",
    "#### with repetition\n",
    "$\\bar{C}_p^n = \\frac{\\bar{V}_p^n}{P_p} = \\frac{(n+p-1)!}{p!(n-1)!}$"
   ]
  },
  {
   "cell_type": "markdown",
   "id": "ad344bbf",
   "metadata": {},
   "source": [
    "**Example 1:**\\\n",
    "ppl = 10, pos = 3\n",
    "\n",
    "$P_3$ = 3! = 6\n",
    "\n",
    "$V_3^{10} = \\frac{10!}{7!}$ = 8x9x10 = 720\n",
    "\n",
    "$C_3^{10} = \\frac{720}{6}$ = 120"
   ]
  },
  {
   "cell_type": "markdown",
   "id": "b0f1bb90",
   "metadata": {},
   "source": [
    "**Example 2:**\\\n",
    "els = [a,b,c]\n",
    "\n",
    "$P_n$ = [a,b,c] [a,c,b] [b,a,c] [b,c,a] [c,a,b] [c,b,a] = 6\n",
    "\n",
    "pos = 3\n",
    "\n",
    "$\\bar{V}_2^3$ = [a,a] [a,b] [a,c] [b,a] [b,b] [b,c] [c,a] [c,b] [c,c] = 9\n",
    "\n",
    "$V_2^3$ = [a,b] [a,c] [b,a] [b,c] [c,a] [c,b] = 6\n",
    "\n",
    "$C_2^3$ = [a,b] [a,c] [b,a] = 3"
   ]
  },
  {
   "cell_type": "markdown",
   "id": "b0ddd83c",
   "metadata": {},
   "source": [
    "#### Symmetry of combinations\n",
    "\n",
    "$C_p^n$ vs n is a normal distribution\n",
    "\n",
    "$$C_p^n = C_{n-p}^n$$\n",
    "\n",
    "$C_3^{10} = C_7^{10} = \\frac{10!}{3!\\times7!} = \\frac{720}{6}$ = 120\n",
    "\n",
    "$p > \\frac{n}{2} > n-p$"
   ]
  },
  {
   "cell_type": "markdown",
   "id": "6fd7a6d4",
   "metadata": {},
   "source": [
    "#### Different sample spaces\n",
    "tot no of combinations = multiplying combinations"
   ]
  },
  {
   "cell_type": "markdown",
   "id": "b3671f0b",
   "metadata": {},
   "source": [
    "**Example:**\\\n",
    "pwr ball = $\\frac{1}{26}$\n",
    "\n",
    "5 numbers = $C_5^{69} = \\frac{69!}{5!\\times64!} = 11M$\n",
    "\n",
    "11M * 26 ~= 300M\n",
    "\n",
    "$\\frac{favourable}{all} = \\frac1{300M}$ = $3\\times10^{-8}$"
   ]
  },
  {
   "cell_type": "markdown",
   "id": "5b85839d",
   "metadata": {},
   "source": [
    "### Sets\n",
    "* Set name capital, el simplecase\n",
    "* null set: $\\phi$\n",
    "* non empty sets can be finite/infinite\n",
    "\n",
    "empty set = $\\emptyset$\n",
    "\n",
    "$x \\in A$=> x an element of set A\n",
    "\n",
    "$x \\notin A$=> x NOT an element of set A\n",
    "\n",
    "$\\forall$=> forall/any\n",
    "\n",
    "$\\forall x \\in A$=> forall x in A\n",
    "\n",
    "$\\forall x \\in A:x$ is even=> forall x in A such tht x is even"
   ]
  },
  {
   "cell_type": "markdown",
   "id": "74e992b6",
   "metadata": {},
   "source": [
    "#### Subset\n",
    "\n",
    "$A \\subseteq B$=> A subset of B\n",
    "\n",
    "Every set contains 2 sets: $A \\subseteq A$, $A \\subseteq \\emptyset$"
   ]
  },
  {
   "cell_type": "markdown",
   "id": "96fee599",
   "metadata": {},
   "source": [
    "#### Intersection\n",
    "A,B happens simultaneously\n",
    "\n",
    "$A \\cap B$=> A intersect B\n",
    "\n",
    "$A \\cap B = \\emptyset$=> A intersect B is an empty set if they have no intersection\n",
    "\n",
    "$A \\cap B = B$=> if $B \\subseteq A$"
   ]
  },
  {
   "cell_type": "markdown",
   "id": "6a4de67d",
   "metadata": {},
   "source": [
    "#### Union\n",
    "either A/B happens\n",
    "\n",
    "$A \\cup B$\n",
    "\n",
    "$A \\cap B = \\emptyset$ then $A \\cup B = A + B$\n",
    "\n",
    "$A \\cap B$ then $A \\cup B = A + B - \\underline{A \\cap B}$\n",
    "\n",
    "$B \\subseteq A$ then $A \\cup B= A + B - B = A$"
   ]
  },
  {
   "cell_type": "markdown",
   "id": "a10a2a9e",
   "metadata": {},
   "source": [
    "#### Mutually exclusive sets\n",
    "\n",
    "$A \\cap B = \\emptyset$ then $A \\cup B = A + B$\n",
    "\n",
    "* complements r ALWAYS mutually exclusive\n",
    "* But not all Mutually exclusive sets r complements"
   ]
  },
  {
   "cell_type": "markdown",
   "id": "e26288cc",
   "metadata": {},
   "source": [
    "### Conditional Probability\n",
    "To distinguish dependent & independent events.\n",
    "\n",
    "P(A|B) = P of A given B\n",
    "\n",
    "A = Queen of Spade, B = Spade\\\n",
    "P(A|B) = $\\frac{1}{13}$\n",
    "\n",
    "A = Queen of Spade, B = Queen\\\n",
    "P(A|B) = $\\frac{1}{4}$\n",
    "\n",
    "---\n",
    "**Independent**\\\n",
    "tossing a coin\\\n",
    "A = heads, B = heads\\\n",
    "P(A|B) = 0.5\n",
    "\n",
    "p(A) = P(A|B)\n",
    "\n",
    "p(A $\\cap$ A) = P(A) x P(B)\n",
    "\n",
    "**Dependent**\\\n",
    "A = Queen of Spades, B = Spade, C = Queen\n",
    "\n",
    "p(A) = $\\frac{1}{52}$\n",
    "p(A|B) = $\\frac{1}{13}$\n",
    "p(A|C) = $\\frac{1}{4}$\n",
    "\n",
    "assuming (P(B)>0),\n",
    "\n",
    "p(A|B) = $\\frac{P(A \\cap B)}{P(B)}$ $\\approx \\frac{fav}{all}$\n",
    "\n",
    "---\n",
    "p(A|B) $\\not{=}$ P(B|A)\n"
   ]
  },
  {
   "cell_type": "markdown",
   "id": "c6a14b00",
   "metadata": {},
   "source": [
    "### Law of Total Probability\n",
    "\n",
    "A = $B_1 \\cup B_2 \\cup b_n$\n",
    "\n",
    "$P(A) = P(A|B_1) \\times P(B_1) \\times P(A|B_2) \\times P(B_2)...$\n"
   ]
  },
  {
   "cell_type": "markdown",
   "id": "5826ff12",
   "metadata": {},
   "source": [
    "### Additive Law\n",
    "similar to finding the union\n",
    "\n",
    "P(A $\\cup$ B) = P(A) + P(B) - P(A $\\cap$ B)\n",
    "\n",
    "P(A $\\cap$ B) = P(A) + P(B) - P(A $\\cup$ B)"
   ]
  },
  {
   "cell_type": "markdown",
   "id": "46b2ad90",
   "metadata": {},
   "source": [
    "### Multiplication Rule\n",
    "\n",
    "p(A|B) = $\\frac{P(A \\cap B)}{P(B)}$\n",
    "\n",
    "p(A|B) * P(B) = $\\frac{P(A \\cap B)}{P(B)}$ * P(B)\n",
    "\n",
    "p(A|B) * P(B) = P(A $\\cap$ B)"
   ]
  },
  {
   "cell_type": "markdown",
   "id": "5f32df4b",
   "metadata": {},
   "source": [
    "### Baye's Theorem\n",
    "\n",
    "P(A|B) = $\\frac{P(A \\cap B)}{P(B)}$\n",
    "\n",
    "P(A $\\cap$ B) = P(A|B) x P(B)\n",
    "\n",
    "P(A|B) = $\\frac{ P(B|A) \\times P(A)}{P(B)}$"
   ]
  },
  {
   "cell_type": "markdown",
   "id": "ee37e236",
   "metadata": {},
   "source": [
    "## Distributions\n",
    "\n",
    "Y: actual outcome\\\n",
    "y: 1 of the outcomes\n",
    "\n",
    "**Probability fn**\\\n",
    "P(Y=y) = p(y)\n",
    "\n",
    "**2 characteristics**\n",
    "\n",
    "mean ($\\mu$): avg value\\\n",
    "variance ($\\sigma^2$): spread out the data, how faraway from the mean, disperse&uarr;m"
   ]
  },
  {
   "cell_type": "markdown",
   "id": "c733095a",
   "metadata": {},
   "source": [
    "Discrete dist: finite outcomes (die, card, coin)\\\n",
    "Continous dist: infinite (time, distance)\n",
    "\n",
    "X ~ N($\\mu, \\sigma^2$)\\\n",
    "variable, tidle, type, charactheristics(mean, variance)"
   ]
  },
  {
   "cell_type": "markdown",
   "id": "721075ee",
   "metadata": {},
   "source": [
    "### Discrete Dist\n",
    "P(Y<=y) = P[Y<(y+1)]\n",
    "\n",
    "#### Uniform Dist\n",
    "Equiprobable: All outcomes equally likely\\\n",
    "Provides no relevant info (mean variance are uniterpretable)\n",
    "\n",
    "X ~ U(a,b) \n",
    "from a to b\n",
    "\n",
    "Ex: rolling a die,\\\n",
    "X ~ U(1,6)\\\n",
    "X ~ U(6) \n",
    "\n",
    "#### Bernoulli Dist\n",
    "True/False outcomes. any event can be a Bernoulli event\\\n",
    "1 trail 2 outcomes\n",
    "\n",
    "X ~ Bern(p)\\\n",
    "p: probability of success\n",
    "\n",
    "usually either p is known (probability of 1 of the events), or we have experimental data\\\n",
    "1 bar is p & the other 1-p\n",
    "\n",
    "E(X) = p\\1-p\n",
    "\n",
    "$\\sigma^2$ = p(1-p)\\\n",
    "$\\sigma = \\sqrt{p(1-p)}$\\\n",
    "brings lil value\n",
    "\n",
    "#### Binomial Dist\n",
    "2 outcomes per iterations, Many iterations\n",
    "\n",
    "X ~ B(n,p)\\\n",
    "n: no of trials\\\n",
    "p: probability of success\n",
    "\n",
    "X ~ Bern(p) = X ~ B(1,p)\n",
    "\n",
    "**Probability fn**\\\n",
    "P(y) = $({n \\atop y}).p^y.(1-p)^{n-y}$\n",
    "\n",
    "**Expected Value**\\\n",
    "E(Y) = p.n\n",
    "\n",
    "**Variance**\\\n",
    "$\\sigma^2 = E(y^2) - E(y)^2$ = n.p.(1-p)\n",
    "\n",
    "#### Poisson Dist\n",
    "how unsual an event frequency for a given interval\\\n",
    "Only non-negative values (starts from 0)\n",
    "\n",
    "Y ~ $Po(\\lambda)$\n",
    "\n",
    "P(Y) = $\\frac{\\lambda^ye^{-\\lambda}}{y!}$\\\n",
    "e: Euler's number (Napier's constant) $\\approx 2.72$\n",
    "\n",
    "E(y) = $\\mu = \\sigma^2 = \\lambda$"
   ]
  },
  {
   "cell_type": "markdown",
   "id": "3f311293",
   "metadata": {},
   "source": [
    "### Continous Dist\n",
    "infinite space, cannot record frequency (graphs only)\n",
    "\n",
    "**Probability Density Fn (PDF)** = f(y)\\\n",
    "**Probability Distribution Curve (PDC):** smooth curve since many records\n",
    "\n",
    "P(y) = $\\frac{favourable}{sample space} = \\frac1{\\infty}$ = 0\\\n",
    "p(X) = 0\n",
    "\n",
    "**Cumulative Distribution Fn(CDF)**\\\n",
    "$F(-\\infty) = 0, F(\\infty) = 1$\n",
    "\n",
    "density curve area/prob of intervals = $\\int^a_b p(x)dx$\n",
    "\n",
    "**Integral**\\\n",
    "PDF -> CDF, $\\int^y_{-\\infty} p(y)dy$ = F(y)\\\n",
    "**Derivative**\\\n",
    "PDF <- CDF, $p(y) = F(y)\\frac{d}{dy}$\n",
    "\n",
    "E(y) =  $\\int^{\\infty}_{-\\infty} p(y)dy$\n",
    "\n",
    "$\\sigma^2 = E(y^2) - E(y)^2$\n",
    "\n",
    "#### Normal Dist\n",
    "curve probability dist\\\n",
    "limited data: Students T dist\n",
    "\n",
    "E(x) = $\\mu$\\\n",
    "Var(x) = $\\sigma^2$ or $ E(y^2) - E(y)^2$\n",
    "\n",
    "$\\mu - \\sigma, \\mu + \\sigma$ = 68%\\\n",
    "$\\mu - 2\\sigma, \\mu + 2\\sigma$ = 95%\\\n",
    "$\\mu - 3\\sigma, \\mu + 3\\sigma$ = 99.7%\n",
    "\n",
    "outliers r rare\n",
    "\n",
    "**Tranformaion**\\\n",
    "+/-: Moves the graph \\\n",
    "x: shrink\\\n",
    "/: expand\n",
    "\n",
    "**Standardization**\\\n",
    "Standard Normal Dist\\\n",
    "Ex(x)=0, V(x)=1\n",
    "\n",
    "$Z = \\frac{x-u}\\sigma$\n",
    "\n",
    "#### STudent's-T Dist\n",
    "Y ~ t(k), k: degrees of freedom\n",
    "\n",
    "if k>2;\n",
    "\n",
    "$E(y) =  \\mu$\\\n",
    "$Var(y) = \\frac{S^2.k}{k-2}$\n",
    "\n",
    "#### Chi-Squared Dist\n",
    "Asymmetric\\\n",
    "Only non-negative values (starts from 0)\\\n",
    "right skewed typically\\\n",
    "Used in hypothesis testing for Goodness of fit, computing confidence intervals\n",
    "\n",
    "Y ~ X^2(k), k: degrees of freedom\n",
    "\n",
    "elevating Students T dist to power of 2 gives chi dist & vice versa\n",
    "\n",
    "E(Y) =  k\\\n",
    "Var(Y) = 2k\n",
    "\n",
    "#### Expontential Dist\n",
    "Event's rapidly chaning early on (online news articles tht are only relevant when topics are fresh)\n",
    "\n",
    "X ~ Exp($\\lambda$), $\\lambda$: scale value\n",
    "\n",
    "E(Y) =  $\\frac{1}{\\lambda}$\\\n",
    "Var(Y) = $\\frac{1}{\\lambda^2}$\n",
    "\n",
    "**Transformations**\\\n",
    "X = ln(Y) => N ~ ($\\mu, \\sigma^2$)\n",
    "\n",
    "#### Logistic Dist\n",
    "binay outcomes\\\n",
    "forecast analysis\\\n",
    "determining cut-off point for successful outcome\n",
    "\n",
    "Y ~ Logistic($\\mu$, S), $\\mu$: location, S: Scale param\n",
    "\n",
    "E(Y) =  $\\mu$\\\n",
    "Var(Y) = $\\frac{S^2\\pi^2}3$"
   ]
  }
 ],
 "metadata": {
  "kernelspec": {
   "display_name": "Python 3 (ipykernel)",
   "language": "python",
   "name": "python3"
  },
  "language_info": {
   "codemirror_mode": {
    "name": "ipython",
    "version": 3
   },
   "file_extension": ".py",
   "mimetype": "text/x-python",
   "name": "python",
   "nbconvert_exporter": "python",
   "pygments_lexer": "ipython3",
   "version": "3.9.12"
  }
 },
 "nbformat": 4,
 "nbformat_minor": 5
}
