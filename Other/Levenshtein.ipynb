{
 "cells": [
  {
   "cell_type": "code",
   "execution_count": 2,
   "id": "2e7d2ae8",
   "metadata": {},
   "outputs": [
    {
     "name": "stdout",
     "output_type": "stream",
     "text": [
      "[[0, 1, 2, 3, 4, 5, 6], [1, 0, 0, 0, 0, 0, 0], [2, 0, 0, 0, 0, 0, 0], [3, 0, 0, 0, 0, 0, 0], [4, 0, 0, 0, 0, 0, 0], [5, 0, 0, 0, 0, 0, 0], [6, 0, 0, 0, 0, 0, 0]]\n",
      "\n",
      "\n",
      "5\n"
     ]
    }
   ],
   "source": [
    "def levenshtein(string1, string2):\n",
    "    # Get the length of the two strings\n",
    "    len1 = len(string1)\n",
    "    len2 = len(string2)\n",
    "\n",
    "    # Create a matrix of size (len1 + 1) x (len2 + 1)\n",
    "    matrix = [[0] * (len2 + 1) for i in range(len1 + 1)]\n",
    "\n",
    "    # Initialize the first row and column of the matrix\n",
    "    for i in range(len1 + 1):\n",
    "        matrix[i][0] = i\n",
    "\n",
    "    for j in range(len2 + 1):\n",
    "        matrix[0][j] = j\n",
    "\n",
    "    print(matrix)\n",
    "    print('\\n')\n",
    "\n",
    "    # Fill in the rest of the matrix\n",
    "    for i in range(1, len1 + 1):\n",
    "        for j in range(1, len2 + 1):\n",
    "            # If the characters at the current positions in the two strings are the same,\n",
    "            # the cost is 0. Otherwise, the cost is 1.\n",
    "            cost = 0 if string1[i - 1] == string2[j - 1] else 1\n",
    "\n",
    "            # Calculate the minimum cost by comparing the three possible operations:\n",
    "            # insertion, deletion, or substitution\n",
    "\n",
    "            matrix[i][j] = min(matrix[i - 1][j] + 1, matrix[i][j - 1] + 1, matrix[i - 1][j - 1] + cost)\n",
    "\n",
    "    return matrix[len1][len2]\n",
    "\n",
    "# Calculate the Levenshtein distance between two strings\n",
    "print(levenshtein('benyam', 'ephrem'))"
   ]
  }
 ],
 "metadata": {
  "kernelspec": {
   "display_name": "Python 3 (ipykernel)",
   "language": "python",
   "name": "python3"
  },
  "language_info": {
   "codemirror_mode": {
    "name": "ipython",
    "version": 3
   },
   "file_extension": ".py",
   "mimetype": "text/x-python",
   "name": "python",
   "nbconvert_exporter": "python",
   "pygments_lexer": "ipython3",
   "version": "3.9.12"
  }
 },
 "nbformat": 4,
 "nbformat_minor": 5
}
