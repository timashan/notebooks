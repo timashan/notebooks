{
 "cells": [
  {
   "cell_type": "markdown",
   "id": "4eb5452e",
   "metadata": {},
   "source": [
    "# STATISTICS"
   ]
  },
  {
   "cell_type": "code",
   "execution_count": 2,
   "id": "385208a4",
   "metadata": {},
   "outputs": [],
   "source": [
    "import numpy as np\n",
    "import pandas as pd\n",
    "from matplotlib import pyplot as plt\n",
    "import seaborn as sns\n",
    "from scipy.stats import skewnorm\n",
    "\n",
    "from statistics import mode\n",
    "from statistics import median\n",
    "# from numpy import median"
   ]
  },
  {
   "cell_type": "markdown",
   "id": "38114785",
   "metadata": {},
   "source": [
    "https://rpruim.github.io/s341/S19/from-class/MathinRmd.html"
   ]
  },
  {
   "cell_type": "markdown",
   "id": "93923cf2",
   "metadata": {},
   "source": [
    "parameter: describes entire poopulation\n",
    "statistic: describes only sample of the population"
   ]
  },
  {
   "cell_type": "markdown",
   "id": "3344b7ba",
   "metadata": {},
   "source": [
    "## Data Types\n",
    "\n",
    "<!-- ![image](imgs/data_types.png) -->\n",
    "<img src=\"imgs/data_types.png\" alt=\"drawing\" width=\"700\"/>\n",
    "\n",
    "Discrete: 1, 2 \\\n",
    "Continous: 1.333333\n",
    "Nominal: Categories with No order => Gender\\\n",
    "Ordinal: Categories with Order => age ranges\\\n",
    "Interval: No 0 => C, F \\\n",
    "Ratio: Has a 0 => K\n",
    "\n",
    "* ID is categorical, nominal\n",
    "    * mean doen't make sense\n",
    "* age,price can be discrete/continous (banks, Ds continous for price)\n",
    "* 13 - 18 is categorical, ordinal"
   ]
  },
  {
   "cell_type": "markdown",
   "id": "16f43614",
   "metadata": {},
   "source": [
    "## Frequency Table\n",
    "\n",
    "|class     | Frequency |Relative F\n",
    "|:--------:|:---------:|:------------|\n",
    "| < 18     | 10        | 10%         |\n",
    "| 18 - 25  | 60        | 60%         |\n",
    "| 25 - 40  | 30        | 30%         |\n",
    "|          | 100       | 100%        |"
   ]
  },
  {
   "cell_type": "markdown",
   "id": "7d1be2e5",
   "metadata": {},
   "source": [
    "## Mean\n",
    "\n",
    "$\\frac{\\sum_X}n$\n",
    "\n",
    "**x-bar:** Sample Mean\n",
    "\n",
    "$\\bar{x} = \\frac{\\sum_X}n$\n",
    "\n",
    "**mu:** Population Mean\n",
    "\n",
    "$\\mu = \\frac{\\sum_X}N$\n",
    "\n",
    "Not resistant (to outliiers) & not stable\\\n",
    "Can make it stable by trimming 5% for resistance\\\n",
    "Can be used to find if a value is numerical or categorical"
   ]
  },
  {
   "cell_type": "markdown",
   "id": "967edd61",
   "metadata": {},
   "source": [
    "## Mode\n",
    "\n",
    "Most popular value"
   ]
  },
  {
   "cell_type": "code",
   "execution_count": 109,
   "id": "bca5e916",
   "metadata": {},
   "outputs": [
    {
     "data": {
      "text/plain": [
       "3"
      ]
     },
     "execution_count": 109,
     "metadata": {},
     "output_type": "execute_result"
    }
   ],
   "source": [
    "lst = [1,2,2,3,3,3]\n",
    "max(set(lst), key=lst.count)"
   ]
  },
  {
   "cell_type": "markdown",
   "id": "985e8677",
   "metadata": {},
   "source": [
    "## Median\n",
    "50th percentile\n",
    "\n",
    "resistant (to outliiers) & very stable"
   ]
  },
  {
   "cell_type": "code",
   "execution_count": 110,
   "id": "76338515",
   "metadata": {},
   "outputs": [
    {
     "name": "stdout",
     "output_type": "stream",
     "text": [
      "3.5\n"
     ]
    }
   ],
   "source": [
    "arr = [1,2,3,4,5,6]\n",
    "arr_l = len(arr)\n",
    "\n",
    "if arr_l % 2:\n",
    "    print(arr[arr_l//2])\n",
    "else :\n",
    "    print((arr[arr_l//2-1] + arr[arr_l//2])/2)"
   ]
  },
  {
   "cell_type": "code",
   "execution_count": 111,
   "id": "252c26e9",
   "metadata": {},
   "outputs": [
    {
     "data": {
      "text/plain": [
       "3"
      ]
     },
     "execution_count": 111,
     "metadata": {},
     "output_type": "execute_result"
    }
   ],
   "source": [
    "median([1, 3, 5])"
   ]
  },
  {
   "cell_type": "markdown",
   "id": "00ebb934",
   "metadata": {},
   "source": [
    "## Weighted AVG\n",
    "\n",
    "$\\frac{\\sum_{XW}}{\\sum_W}$\n",
    "\n"
   ]
  },
  {
   "cell_type": "code",
   "execution_count": 112,
   "id": "a84f81a7",
   "metadata": {},
   "outputs": [
    {
     "data": {
      "text/plain": [
       "3.0999999999999996"
      ]
     },
     "execution_count": 112,
     "metadata": {},
     "output_type": "execute_result"
    }
   ],
   "source": [
    "( (4*0.1) + (3*0.2) + (3*0.7) ) / (0.1+ 0.2 + 0.7)"
   ]
  },
  {
   "cell_type": "markdown",
   "id": "758f838d",
   "metadata": {},
   "source": [
    "## Distributions\n",
    "\n",
    "Ex: normal, uniform, binomial, left right skewed"
   ]
  },
  {
   "cell_type": "markdown",
   "id": "d257e9b2",
   "metadata": {},
   "source": [
    "### Normal (Gaussian) Distribution\n",
    "$N ~ (\\mu, \\sigma^2)$\n",
    "\n",
    "mean = median = mode\n",
    "\n",
    "changing the,\\\n",
    "Mean pushes the graph left/right\\\n",
    "STD reshapes the graph, dec => fatter tails/lower deviation"
   ]
  },
  {
   "cell_type": "code",
   "execution_count": 113,
   "id": "1963ee9c",
   "metadata": {},
   "outputs": [
    {
     "name": "stdout",
     "output_type": "stream",
     "text": [
      "0.05164828370321669 0.056179505032802037 0.06965185487983468\n"
     ]
    },
    {
     "data": {
      "text/plain": [
       "<AxesSubplot:ylabel='Count'>"
      ]
     },
     "execution_count": 113,
     "metadata": {},
     "output_type": "execute_result"
    },
    {
     "data": {
      "image/png": "[encoded data removed]",
      "text/plain": [
       "<Figure size 432x288 with 1 Axes>"
      ]
     },
     "metadata": {
      "needs_background": "light"
     },
     "output_type": "display_data"
    }
   ],
   "source": [
    "data = np.random.normal(size=1000)\n",
    "print(data.mean(), median(data), mode(data))\n",
    "\n",
    "sns.histplot(data, kde=True)"
   ]
  },
  {
   "cell_type": "markdown",
   "id": "fd28de4d",
   "metadata": {},
   "source": [
    "## Standardization\n",
    "\n",
    "* \n",
    "\n",
    "~$(\\mu, \\sigma^2)$ => z ~ N(0,1)\n",
    "\n",
    "Z-Score/Z-test\n",
    "\n",
    "**Population**\\\n",
    "$Z = \\frac{\\bar{x}-u}\\sigma$\n",
    "\n",
    "**Sample**\\\n",
    "$Z = \\frac{\\bar{x}-u}{\\sigma/\\sqrt{n}}$\\\n",
    "Z ~ N($\\bar{x}-u$,1)\\\n",
    "denominator: std err"
   ]
  },
  {
   "cell_type": "markdown",
   "id": "732519db",
   "metadata": {},
   "source": [
    "## Empirical Rule\n",
    "\n",
    "establish intervals for normal dist"
   ]
  },
  {
   "cell_type": "markdown",
   "id": "583a9ef6",
   "metadata": {},
   "source": [
    "### Right (Positive) Skew\n",
    "\n",
    "mean > median"
   ]
  },
  {
   "cell_type": "code",
   "execution_count": 114,
   "id": "692c3bc2",
   "metadata": {},
   "outputs": [
    {
     "name": "stdout",
     "output_type": "stream",
     "text": [
      "0.7990395930266645 0.6499777055666842 0.10455888644809457\n"
     ]
    },
    {
     "data": {
      "text/plain": [
       "<AxesSubplot:ylabel='Count'>"
      ]
     },
     "execution_count": 114,
     "metadata": {},
     "output_type": "execute_result"
    },
    {
     "data": {
      "image/png": "[encoded data removed]",
      "text/plain": [
       "<Figure size 432x288 with 1 Axes>"
      ]
     },
     "metadata": {
      "needs_background": "light"
     },
     "output_type": "display_data"
    }
   ],
   "source": [
    "data = skewnorm.rvs(10, size=1000)\n",
    "print(data.mean(), median(data), mode(data))\n",
    "\n",
    "sns.histplot(data, bins=50, kde=True)"
   ]
  },
  {
   "cell_type": "markdown",
   "id": "160c9885",
   "metadata": {},
   "source": [
    "### Left (Negative) Skew\n",
    "\n",
    "mean < median"
   ]
  },
  {
   "cell_type": "code",
   "execution_count": 128,
   "id": "9bccd7c5",
   "metadata": {},
   "outputs": [
    {
     "name": "stdout",
     "output_type": "stream",
     "text": [
      "9.193884895098646 9.30649946605784 9.754966283226981\n"
     ]
    },
    {
     "data": {
      "text/plain": [
       "<AxesSubplot:ylabel='Count'>"
      ]
     },
     "execution_count": 128,
     "metadata": {},
     "output_type": "execute_result"
    },
    {
     "data": {
      "image/png": "[encoded data removed]",
      "text/plain": [
       "<Figure size 432x288 with 1 Axes>"
      ]
     },
     "metadata": {
      "needs_background": "light"
     },
     "output_type": "display_data"
    }
   ],
   "source": [
    "data = skewnorm.rvs(-10, size=1000, loc=10)\n",
    "print(data.mean(), median(data), mode(data))\n",
    "\n",
    "sns.histplot(data, bins=50, kde=True)"
   ]
  },
  {
   "cell_type": "markdown",
   "id": "6211f559",
   "metadata": {},
   "source": [
    "## Range\n",
    "\n",
    "Highest  - lowest\\\n",
    "Only looks at 2 points\\\n",
    "Not stable/resistent"
   ]
  },
  {
   "cell_type": "code",
   "execution_count": 8,
   "id": "fcdfbcd5",
   "metadata": {},
   "outputs": [
    {
     "name": "stdout",
     "output_type": "stream",
     "text": [
      "3\n"
     ]
    }
   ],
   "source": [
    "n = [1,2,3,4]\n",
    "print(max(n) - min(n))"
   ]
  },
  {
   "cell_type": "markdown",
   "id": "a23af0be",
   "metadata": {},
   "source": [
    "## Sum of Squares\n",
    "\n",
    "$\\sum_{(X-\\mu)^2}$\n",
    "\n",
    "$\\sum_{(X-\\bar{X})^2}$\n",
    "\n",
    "* Minus Mean to get it closer to the mean (distances aren't negative)\n",
    "* Squared to get non negatives, amplify differences"
   ]
  },
  {
   "cell_type": "markdown",
   "id": "3098db13",
   "metadata": {},
   "source": [
    "## Variance\n",
    "\n",
    "**Population Variance**\n",
    "\n",
    "$\\sigma^2 = \\frac{\\sum_{(X-\\mu)^2}}N$\n",
    "\n",
    "**Sample Variance**\n",
    "\n",
    "$s^2 = \\frac{\\sum_{(X-\\bar{X})^2}}{n-1}$\n",
    "\n",
    "sample a small portion of the population. n-1 is to reflect upward higher potential variablity"
   ]
  },
  {
   "cell_type": "markdown",
   "id": "c372bd88",
   "metadata": {},
   "source": [
    "## Standard Deviation\n",
    "\n",
    "To measure variablity of a single dataset\n",
    "\n",
    "**Population STD**\n",
    "\n",
    "$\\sigma = \\sqrt{\\sigma^2}$\n",
    "\n",
    "**Sample STD**\n",
    "\n",
    "$s = \\sqrt{s^2}$"
   ]
  },
  {
   "cell_type": "markdown",
   "id": "6357d6ed",
   "metadata": {},
   "source": [
    "## Co-efficient of Variation\n",
    "\n",
    "STD relative to mean\\\n",
    "Can be used for comparisons of 2/more unlike STDs\\\n",
    "Convert to % by times 100\n",
    "\n",
    "**Population CV**\n",
    "\n",
    "$\\hat{C}_V = \\frac{\\sigma}{\\bar{X}}$\n",
    "\n",
    "**Sample CV**\n",
    "\n",
    "$C_V = \\frac{\\sigma}\\mu$"
   ]
  },
  {
   "cell_type": "markdown",
   "id": "f9246f32",
   "metadata": {},
   "source": [
    "## Co-Variance\n",
    "\n",
    "Cov(x,y)\\\n",
    "Gives sense of direction\n",
    "\n",
    "* .> 0: moves together\n",
    "* .< 0: moves opposite\n",
    "* .= 0: independent\n",
    "\n",
    "**Population**\n",
    "\n",
    "$\\mu_{xy} = \\frac{\\sum(x-\\mu_x) * (y-\\mu_y)}{N}$\n",
    "\n",
    "**Sample**\n",
    "\n",
    "$s_{xy} = \\frac{\\sum(x-\\bar{x}) * (y-\\bar{y})}{n-1}$"
   ]
  },
  {
   "cell_type": "markdown",
   "id": "f0ba3d4f",
   "metadata": {},
   "source": [
    "## Correlation Co-effiecent\n",
    "\n",
    "$$\\frac{Cov(x,y)}{Stdev(x)*Stdev(y)}$$\n",
    "\n",
    "-1 <= Correlationv Co-effiecent <= 1\n",
    "* 0: Perfect positive correclation\n",
    "* 1: Absolute independent variables\n",
    "* -1: Perfect negative correclation\n",
    "\n",
    "Correlation is not Causation/Causality\\\n",
    "disregard below 0.2 (common practice)"
   ]
  },
  {
   "cell_type": "markdown",
   "id": "22089644",
   "metadata": {},
   "source": [
    "## Central Limit Theorem (CLT)\n",
    "\n",
    "**Original/Population**\n",
    "\n",
    "$\\mu$ $\\sigma^2$\n",
    "\n",
    "**Sample**\n",
    "\n",
    "~$N(\\mu, (\\frac{\\sigma^2}n))$\n",
    "\n",
    "sampling dist approxiamates a normal no matter the population dist\\\n",
    "mean ($\\bar{x}$) is almost equal therefore $\\mu$\\\n",
    "sample size(n)&uarr; variance($\\sigma^2$)&darr; (CLT to apply, n > 30)"
   ]
  },
  {
   "cell_type": "markdown",
   "id": "0b484ddc",
   "metadata": {},
   "source": [
    "## Standard Error\n",
    "\n",
    "STD of dist formed/variablity by the sample means\\\n",
    "\n",
    "\n",
    "**Variance**\\\n",
    "$\\sigma^2 = \\frac{\\sigma^2}n$\n",
    "\n",
    "**STD**\\\n",
    "$\\sigma = \\sqrt{\\frac{\\sigma^2}n} = \\frac{\\sigma}{\\sqrt{n}}$\n",
    "\n",
    "sample size(n)&uarr; STD&darr;\\\n",
    "bigger than sample size smaller the err"
   ]
  },
  {
   "cell_type": "markdown",
   "id": "ed7344c4",
   "metadata": {},
   "source": [
    "## Estimators\n",
    "* Point estimates\n",
    "* Confidence Interval\n",
    "\n",
    "Point estimates r located middle of the confidence interval"
   ]
  },
  {
   "cell_type": "markdown",
   "id": "20588b55",
   "metadata": {},
   "source": [
    "### Point Estinmates\n",
    "\n",
    "Estmator | Parameter | Estimate\n",
    "\n",
    "$\\bar{x}$ of $\\mu$\\\n",
    "$s^2$ of $\\sigma^2$\n",
    "\n",
    "2 properties: Bias, Effiency\n",
    "\n",
    "**Bias**\\\n",
    "**UnBiased**\\\n",
    "expected value = population parameter\n",
    "$\\bar{x}$ = $\\mu$\\\n",
    "**Biased**\\\n",
    "$\\bar{x}$ + 1ft = $\\mu$\n",
    "\n",
    "**Efficiency**\\\n",
    "Most unbiased with least variance"
   ]
  },
  {
   "cell_type": "markdown",
   "id": "141c008f",
   "metadata": {},
   "source": [
    "## Confidence Interval (CI)"
   ]
  },
  {
   "cell_type": "markdown",
   "id": "f48758de",
   "metadata": {},
   "source": [
    "### Population Variance Known (z-score)\n",
    "\n",
    "Can nvr have 100% confidence if not the entire population is unexplored.\n",
    "\n",
    "**Confidence Level**\\\n",
    "$$1-\\alpha$$\n",
    "0 <= &alpha; <= 1\\\n",
    "95% confidence means &alpha; is 5% (0.05)\\\n",
    "can be chosen\n",
    "\n",
    "PE = point estimate\\\n",
    "RF = reliability factor\\\n",
    "SE = Standard Error\\\n",
    "[PE - RF * SE, PE * RF * SE]\n",
    "\n",
    "> $[\\bar{x} - Z_{a/2} * \\frac{\\sigma}{\\sqrt{n}}, \\bar{x} + Z_{a/2} * \\frac{\\sigma}{\\sqrt{n}}]$\n",
    "\n",
    "> $\\bar{x} \\pm Z_{a/2} * \\frac{\\sigma}{\\sqrt{n}}$\n",
    "\n",
    "confidence&uarr; interval&uarr;\n"
   ]
  },
  {
   "cell_type": "markdown",
   "id": "a24b8d0d",
   "metadata": {},
   "source": [
    "### Population Variance unKnown (t-score)\n",
    "* n > 50 use z table instead of t\n",
    "* s (sample STD) used instead of &sigma;\n",
    "* n-1 = degrees of freedom\n",
    "\n",
    "$$\\bar{x} \\pm t_{n-1,a/2}* \\frac{s}{\\sqrt{n}}$$\n",
    "\n",
    "Higher width of interval"
   ]
  },
  {
   "cell_type": "markdown",
   "id": "81e889b7",
   "metadata": {},
   "source": [
    "## Margin of Error\n",
    "\n",
    "$\\bar{x}$ &pm; ME\n",
    "\n",
    "$\\frac{STD}{\\sqrt{n}}$\n",
    "\n",
    "confidence_level&darr; STD&darr; sample_size&uarr;"
   ]
  },
  {
   "cell_type": "markdown",
   "id": "62e52f34",
   "metadata": {},
   "source": [
    "#### 2 Means, dependent samples\n",
    "\n",
    "* Befor/After\n",
    "* same subjects, similar sample sizes\n",
    "* $\\bar{d} = \\bar{x}$\n",
    "\n",
    "ex: mg levels of ppl before & after\n",
    "\n",
    "$$\\bar{d} \\pm t_{n-1,a/2}* \\frac{s}{\\sqrt{n}}$$\n"
   ]
  },
  {
   "cell_type": "markdown",
   "id": "13f903f7",
   "metadata": {},
   "source": [
    "#### 2 Means, independent samples, variance known\n",
    "\n",
    "**Variance of differnece**\n",
    "\n",
    "$\\sigma_{diff}^2 = \\frac{\\sigma_x^2}{n_x} + \\frac{\\sigma_y^2}{n_y}$\n",
    "\n",
    "$$(\\bar{x}-\\bar{y})\\pm z_{\\alpha/2} \\sqrt{\\frac{\\sigma_x^2}{n_x} + \\frac{\\sigma_y^2}{n_y}}$$\n",
    "\n",
    "difference point estimator | test statistic | standard error"
   ]
  },
  {
   "cell_type": "markdown",
   "id": "f2fb1fbe",
   "metadata": {},
   "source": [
    "#### 2 Means, independent samples, variance unknown but assumed 2 b equal\n",
    "\n",
    "* $n_x+n_y-2$ instead of $n - 1$ (degrees of freedom)\n",
    "\n",
    "**Pool Variance**\\\n",
    "$s_p^2 = \\frac{(n_x-1)s_x^2+(n_y-1)s_y^2}{n_x+n_y-2}$\n",
    "\n",
    "$$(\\bar{x}-\\bar{y}) \\pm t_{n_x+n_y-2,a/2} \\sqrt{\\frac{s_p^2}{n_x} + \\frac{s_p^2}{n_y}}$$\n"
   ]
  },
  {
   "cell_type": "markdown",
   "id": "fc10bd9a",
   "metadata": {},
   "source": [
    "## Hypothesis Testing\n",
    "\n",
    "* Null Hypothesis ($H_0$): To be tested\n",
    "* Alternate Hypothesis ($H_1$ or $H_A$): Otherwise/not $H_0$\n",
    "\n",
    "can be 1-sided, 2-sided\n",
    "\n",
    "**Level of Significance**\\\n",
    "&alpha; = 0.01, 0.05, 0.1 (0.05 most common)\n",
    "\n",
    "**Type 1 Error**\n",
    "* False Positive: probability = &alpha; : reject true null hypothesis\n",
    "\n",
    "**Type 2 Error**\n",
    "* False Negative: probability = &beta; ( depends on n, &sigma;) : accept false null hypothesis\n",
    "\n",
    "**Goal of hypothesis**\n",
    "* True Negative: probability = 1 - &beta; : reject false null hypothesis (aka pwr of the test)\n",
    "\n",
    "**Z-score (Z)**\\\n",
    "$Z = \\frac{\\bar{x}-u}{\\sigma/\\sqrt{n}}$ or Z ~ N($\\bar{x}-u$,1)\n",
    "\n",
    "**T-socre (T)**\\\n",
    "same as Z-score\n",
    "\n",
    "Positive critical value (z): $z_{\\alpha/2}$ (divide by 2 coz 2-sided)\n",
    "\n",
    "if -$z_{\\alpha/2}$ < Z > $z_{\\alpha/2}$ reject null hypothesis"
   ]
  },
  {
   "cell_type": "markdown",
   "id": "89a0b246",
   "metadata": {},
   "source": [
    "## p-value\n",
    "* close to 0 the better/significant\n",
    "* if p < &alpha; reject null hypothesis else accept\n",
    "\n",
    "**1-sided**\\\n",
    "1 - z\n",
    "\n",
    "**2-sided**\\\n",
    "(1 - z) * 2"
   ]
  },
  {
   "cell_type": "markdown",
   "id": "1717b7ca",
   "metadata": {},
   "source": [
    "#### Test for mean, dependent samples\n",
    "\n",
    "$$T = \\frac{\\bar{d} - \\mu}{std.err}$$"
   ]
  },
  {
   "cell_type": "markdown",
   "id": "0c1a24a6",
   "metadata": {},
   "source": [
    "#### Test for mean, independent samples, variance known\n",
    "\n",
    "$std. error = \\sqrt{\\frac{\\sigma_x^2}{n_x} + \\frac{\\sigma_y^2}{n_y}}$\n",
    "\n",
    "$$Z = \\frac{\\bar{x} - \\mu}{std. error}$$"
   ]
  },
  {
   "cell_type": "markdown",
   "id": "8be8f74b",
   "metadata": {},
   "source": [
    "#### Test for mean, independent samples, variance unknown, assumed to b equal\n",
    "\n",
    "* Rule of thumb: Reject null hypothesis if bigger than 2 (for Z/T generally 4 is extremly significant)\n",
    "\n",
    "**Pool Variance**\\\n",
    "$s_p^2 = \\frac{(n_x-1)s_x^2+(n_y-1)s_y^2}{n_x+n_y-2}$\n",
    "\n",
    "**std. error**\\\n",
    "$\\sqrt{\\frac{s_p^2}{n_x} + \\frac{s_p^2}{n_y}}$\n",
    "\n",
    "$$T = \\frac{\\bar{d} - \\mu}{std. error}$$"
   ]
  }
 ],
 "metadata": {
  "kernelspec": {
   "display_name": "Python 3 (ipykernel)",
   "language": "python",
   "name": "python3"
  },
  "language_info": {
   "codemirror_mode": {
    "name": "ipython",
    "version": 3
   },
   "file_extension": ".py",
   "mimetype": "text/x-python",
   "name": "python",
   "nbconvert_exporter": "python",
   "pygments_lexer": "ipython3",
   "version": "3.9.12"
  },
  "vscode": {
   "interpreter": {
    "hash": "7da2e37badefd5ca64aa6c6a3b2e7b77d4a14f78d428187b408d278bf7bc818f"
   }
  }
 },
 "nbformat": 4,
 "nbformat_minor": 5
}
