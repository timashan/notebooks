{
 "cells": [
  {
   "cell_type": "code",
   "execution_count": 2,
   "id": "a95767f7",
   "metadata": {},
   "outputs": [],
   "source": [
    "import numpy as np\n",
    "import pandas as pd\n",
    "from matplotlib import pyplot as plt\n",
    "import seaborn as sns\n",
    "from sklearn.linear_model import LinearRegression\n",
    "from sklearn import datasets"
   ]
  },
  {
   "cell_type": "code",
   "execution_count": 4,
   "id": "e774927d",
   "metadata": {},
   "outputs": [
    {
     "name": "stdout",
     "output_type": "stream",
     "text": [
      "   x     y     xy  x^2     y^2\n",
      "0  1   1.5    1.5    1    2.25\n",
      "1  2   3.8    7.6    4   14.44\n",
      "2  3   6.7   20.1    9   44.89\n",
      "3  4   9.0   36.0   16   81.00\n",
      "4  5  11.2   56.0   25  125.44\n",
      "5  6  13.6   81.6   36  184.96\n",
      "6  7  16.0  112.0   49  256.00\n"
     ]
    },
    {
     "data": {
      "text/plain": [
       "<AxesSubplot:xlabel='x', ylabel='y'>"
      ]
     },
     "execution_count": 4,
     "metadata": {},
     "output_type": "execute_result"
    },
    {
     "data": {
      "image/png": "[encoded data removed]",
      "text/plain": [
       "<Figure size 432x288 with 1 Axes>"
      ]
     },
     "metadata": {
      "needs_background": "light"
     },
     "output_type": "display_data"
    }
   ],
   "source": [
    "df = pd.DataFrame({'x': [1, 2, 3, 4, 5, 6, 7], \n",
    "                   'y': [1.5, 3.8, 6.7, 9, 11.2, 13.6, 16]})\n",
    "# df = pd.DataFrame({'x': [1, 2, 3, 4, 5, 6, 7], 'y': [5, 10, 14, 13, 11.2, 18, 16]})\n",
    "df['xy'] = df['x'] * df['y']\n",
    "df['x^2'] = df['x'] ** 2\n",
    "df['y^2'] = df['y'] ** 2\n",
    "print(df)\n",
    "sns.scatterplot(x=df['x'], y=df['y'])\n",
    "sns.lineplot(x=df['x'], y=df['y'])"
   ]
  },
  {
   "cell_type": "code",
   "execution_count": 293,
   "id": "2394616b",
   "metadata": {},
   "outputs": [
    {
     "data": {
      "text/plain": [
       "<AxesSubplot:xlabel='x', ylabel='y'>"
      ]
     },
     "execution_count": 293,
     "metadata": {},
     "output_type": "execute_result"
    },
    {
     "data": {
      "image/png": "[encoded data removed]",
      "text/plain": [
       "<Figure size 432x288 with 1 Axes>"
      ]
     },
     "metadata": {
      "needs_background": "light"
     },
     "output_type": "display_data"
    }
   ],
   "source": [
    "x, y = datasets.make_regression(n_samples=50,\n",
    "                                      n_features=1,\n",
    "                                      noise=10,\n",
    "                                      random_state=0\n",
    "                                  )\n",
    "df = pd.DataFrame(data={'x':x.flatten(), 'y':y})\n",
    "df.plot.scatter(x='x', y='y')"
   ]
  },
  {
   "cell_type": "markdown",
   "id": "a85cdc6e",
   "metadata": {},
   "source": [
    "y = mx + c\\\n",
    "$\\hat{Y} = b_0 + b_1x$\n",
    "\n",
    "$\\frac{rise}{run}= \\frac{\\delta{X}}{\\delta{Y}}$ \n",
    "\n",
    "$c = \\hat{y} - m\\hat{x}$"
   ]
  },
  {
   "cell_type": "code",
   "execution_count": 326,
   "id": "3e642db5",
   "metadata": {},
   "outputs": [
    {
     "name": "stdout",
     "output_type": "stream",
     "text": [
      "11.266666666666666 4.666666666666667 2.414285714285714\n",
      "-0.8285714285714274\n"
     ]
    },
    {
     "data": {
      "text/plain": [
       "<matplotlib.collections.PathCollection at 0x19a4f96a730>"
      ]
     },
     "execution_count": 326,
     "metadata": {},
     "output_type": "execute_result"
    },
    {
     "data": {
      "image/png": "[encoded data removed]",
      "text/plain": [
       "<Figure size 432x288 with 1 Axes>"
      ]
     },
     "metadata": {
      "needs_background": "light"
     },
     "output_type": "display_data"
    }
   ],
   "source": [
    "cov = df['x'].cov(df['y'])\n",
    "var_x = df['x'].var()\n",
    "m = cov/var_x\n",
    "print(cov, var_x, m)\n",
    "\n",
    "c = df['y'].mean() - m * df['x'].mean()\n",
    "print(c)\n",
    "\n",
    "df['pred'] = m * df['x'] + c\n",
    "\n",
    "sns.scatterplot(x=df['x'], y=df['y'])\n",
    "sns.lineplot(x=df['x'], y=df['pred'])\n",
    "plt.scatter(x=df['x'].mean(), y=df['y'].mean(), c='r', s=150)"
   ]
  },
  {
   "cell_type": "code",
   "execution_count": 347,
   "id": "f7cada31",
   "metadata": {},
   "outputs": [
    {
     "data": {
      "text/html": [
       "<div>\n",
       "<style scoped>\n",
       "    .dataframe tbody tr th:only-of-type {\n",
       "        vertical-align: middle;\n",
       "    }\n",
       "\n",
       "    .dataframe tbody tr th {\n",
       "        vertical-align: top;\n",
       "    }\n",
       "\n",
       "    .dataframe thead th {\n",
       "        text-align: right;\n",
       "    }\n",
       "</style>\n",
       "<table border=\"1\" class=\"dataframe\">\n",
       "  <thead>\n",
       "    <tr style=\"text-align: right;\">\n",
       "      <th></th>\n",
       "      <th>x</th>\n",
       "      <th>y</th>\n",
       "      <th>pred</th>\n",
       "      <th>r</th>\n",
       "      <th>r2</th>\n",
       "    </tr>\n",
       "  </thead>\n",
       "  <tbody>\n",
       "    <tr>\n",
       "      <th>0</th>\n",
       "      <td>1</td>\n",
       "      <td>1.5</td>\n",
       "      <td>1.585714</td>\n",
       "      <td>-0.085714</td>\n",
       "      <td>0.007347</td>\n",
       "    </tr>\n",
       "    <tr>\n",
       "      <th>1</th>\n",
       "      <td>2</td>\n",
       "      <td>3.8</td>\n",
       "      <td>4.000000</td>\n",
       "      <td>-0.200000</td>\n",
       "      <td>0.040000</td>\n",
       "    </tr>\n",
       "    <tr>\n",
       "      <th>2</th>\n",
       "      <td>3</td>\n",
       "      <td>6.7</td>\n",
       "      <td>6.414286</td>\n",
       "      <td>0.285714</td>\n",
       "      <td>0.081633</td>\n",
       "    </tr>\n",
       "    <tr>\n",
       "      <th>3</th>\n",
       "      <td>4</td>\n",
       "      <td>9.0</td>\n",
       "      <td>8.828571</td>\n",
       "      <td>0.171429</td>\n",
       "      <td>0.029388</td>\n",
       "    </tr>\n",
       "    <tr>\n",
       "      <th>4</th>\n",
       "      <td>5</td>\n",
       "      <td>11.2</td>\n",
       "      <td>11.242857</td>\n",
       "      <td>-0.042857</td>\n",
       "      <td>0.001837</td>\n",
       "    </tr>\n",
       "    <tr>\n",
       "      <th>5</th>\n",
       "      <td>6</td>\n",
       "      <td>13.6</td>\n",
       "      <td>13.657143</td>\n",
       "      <td>-0.057143</td>\n",
       "      <td>0.003265</td>\n",
       "    </tr>\n",
       "    <tr>\n",
       "      <th>6</th>\n",
       "      <td>7</td>\n",
       "      <td>16.0</td>\n",
       "      <td>16.071429</td>\n",
       "      <td>-0.071429</td>\n",
       "      <td>0.005102</td>\n",
       "    </tr>\n",
       "  </tbody>\n",
       "</table>\n",
       "</div>"
      ],
      "text/plain": [
       "   x     y       pred         r        r2\n",
       "0  1   1.5   1.585714 -0.085714  0.007347\n",
       "1  2   3.8   4.000000 -0.200000  0.040000\n",
       "2  3   6.7   6.414286  0.285714  0.081633\n",
       "3  4   9.0   8.828571  0.171429  0.029388\n",
       "4  5  11.2  11.242857 -0.042857  0.001837\n",
       "5  6  13.6  13.657143 -0.057143  0.003265\n",
       "6  7  16.0  16.071429 -0.071429  0.005102"
      ]
     },
     "execution_count": 347,
     "metadata": {},
     "output_type": "execute_result"
    }
   ],
   "source": [
    "df['r'] = df['y'] - df['pred']\n",
    "df['r2'] = df['r']**2\n",
    "df"
   ]
  },
  {
   "cell_type": "code",
   "execution_count": 349,
   "id": "125758aa",
   "metadata": {},
   "outputs": [
    {
     "data": {
      "text/plain": [
       "0.1685714285714287"
      ]
     },
     "execution_count": 349,
     "metadata": {},
     "output_type": "execute_result"
    }
   ],
   "source": [
    "df['r2'].sum()"
   ]
  },
  {
   "cell_type": "code",
   "execution_count": 289,
   "id": "2bde408b",
   "metadata": {},
   "outputs": [],
   "source": [
    "# model = LinearRegression()\n",
    "# model.fit(df[['x', 'y']], df['y'])"
   ]
  },
  {
   "cell_type": "code",
   "execution_count": 8,
   "id": "9eab6a98",
   "metadata": {},
   "outputs": [
    {
     "data": {
      "text/plain": [
       "0.9994839612189981"
      ]
     },
     "execution_count": 8,
     "metadata": {},
     "output_type": "execute_result"
    }
   ],
   "source": [
    "pc = df['x'].cov(df['y']) / (df['x'].std() * df['y'].std())\n",
    "pc"
   ]
  },
  {
   "cell_type": "code",
   "execution_count": 10,
   "id": "bca17a7c",
   "metadata": {},
   "outputs": [
    {
     "data": {
      "text/plain": [
       "2.4142857142857137"
      ]
     },
     "execution_count": 10,
     "metadata": {},
     "output_type": "execute_result"
    }
   ],
   "source": [
    "pc * df['y'].std() /  df['x'].std() "
   ]
  }
 ],
 "metadata": {
  "kernelspec": {
   "display_name": "Python 3 (ipykernel)",
   "language": "python",
   "name": "python3"
  },
  "language_info": {
   "codemirror_mode": {
    "name": "ipython",
    "version": 3
   },
   "file_extension": ".py",
   "mimetype": "text/x-python",
   "name": "python",
   "nbconvert_exporter": "python",
   "pygments_lexer": "ipython3",
   "version": "3.9.12"
  }
 },
 "nbformat": 4,
 "nbformat_minor": 5
}
