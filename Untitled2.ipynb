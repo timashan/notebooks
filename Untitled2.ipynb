{
 "cells": [
  {
   "cell_type": "code",
   "execution_count": 11,
   "id": "72085562",
   "metadata": {},
   "outputs": [],
   "source": [
    "import functools\n",
    "import numpy as np\n",
    "import pandas as pd\n",
    "\n",
    "from pyspark.sql import SparkSession\n",
    "from pyspark import sql\n",
    "from pyspark.sql import functions as F\n",
    "from scipy import spatial\n",
    "from typing import *\n",
    "from sklearn.base import BaseEstimator, TransformerMixin\n",
    "from sklearn.linear_model import RANSACRegressor, HuberRegressor\n",
    "from sklearn import preprocessing\n",
    "from sklearn import cluster\n",
    "from pyspark.ml.feature import VectorAssembler, StandardScaler\n",
    "from pyspark.ml.clustering import KMeans"
   ]
  },
  {
   "cell_type": "code",
   "execution_count": 12,
   "id": "287798ad",
   "metadata": {},
   "outputs": [],
   "source": [
    "spark = SparkSession.builder.appName('a').getOrCreate()"
   ]
  },
  {
   "cell_type": "code",
   "execution_count": 5,
   "id": "0eb1382e",
   "metadata": {},
   "outputs": [
    {
     "name": "stdout",
     "output_type": "stream",
     "text": [
      "+---+---+\n",
      "|_c0|_c1|\n",
      "+---+---+\n",
      "|ggg| tt|\n",
      "| tt| tt|\n",
      "+---+---+\n",
      "\n"
     ]
    }
   ],
   "source": [
    "df = spark.read.csv('./data/aa.csv')\n",
    "df.show()"
   ]
  },
  {
   "cell_type": "code",
   "execution_count": 35,
   "id": "c0c17654",
   "metadata": {},
   "outputs": [
    {
     "data": {
      "text/plain": [
       "['a', 'b']"
      ]
     },
     "execution_count": 35,
     "metadata": {},
     "output_type": "execute_result"
    }
   ],
   "source": [
    "df = pd.DataFrame([['aa', 'jj']], columns=['a', 'b'])\n",
    "list(df.columns)"
   ]
  },
  {
   "cell_type": "code",
   "execution_count": 22,
   "id": "5d0ea464",
   "metadata": {},
   "outputs": [],
   "source": [
    "from typing import List\n",
    "from collections import Counter, defaultdict"
   ]
  },
  {
   "cell_type": "markdown",
   "id": "b3e78820",
   "metadata": {},
   "source": [
    "# Yasiru Bug"
   ]
  },
  {
   "cell_type": "code",
   "execution_count": 1,
   "id": "0b156bc7",
   "metadata": {},
   "outputs": [
    {
     "data": {
      "text/plain": [
       "[1, 3, 5, 7, 9]"
      ]
     },
     "execution_count": 1,
     "metadata": {},
     "output_type": "execute_result"
    }
   ],
   "source": [
    "from pyspark.sql import SparkSession\n",
    "from pyspark import SparkContext\n",
    "import os\n",
    "import sys\n",
    "os.environ[\"PYSPARK_PYTHON\"] = os.environ.get(\"PYSPARK_PYTHON\", sys.executable)\n",
    "\n",
    "sc = SparkContext.getOrCreate()\n",
    "big_list=range(1000)\n",
    "rdd=sc.parallelize(big_list)\n",
    "odds=rdd.filter(lambda x:x % 2 !=0)\n",
    "odds\n",
    "odds.take(5)"
   ]
  },
  {
   "cell_type": "code",
   "execution_count": 29,
   "id": "9fcd0d57",
   "metadata": {},
   "outputs": [],
   "source": [
    "import pyspark\n",
    "sc = SparkContext.getOrCreate()\n",
    "big_list=range(1000)\n",
    "rdd=sc.parallelize(big_list)\n",
    "odds=rdd.filter(lambda x:x % 2 !=0)\n",
    "# odds.take(5)"
   ]
  },
  {
   "cell_type": "code",
   "execution_count": null,
   "id": "472a91a9",
   "metadata": {},
   "outputs": [],
   "source": []
  }
 ],
 "metadata": {
  "kernelspec": {
   "display_name": "Python 3 (ipykernel)",
   "language": "python",
   "name": "python3"
  },
  "language_info": {
   "codemirror_mode": {
    "name": "ipython",
    "version": 3
   },
   "file_extension": ".py",
   "mimetype": "text/x-python",
   "name": "python",
   "nbconvert_exporter": "python",
   "pygments_lexer": "ipython3",
   "version": "3.9.12"
  }
 },
 "nbformat": 4,
 "nbformat_minor": 5
}
